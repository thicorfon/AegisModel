{
 "cells": [
  {
   "cell_type": "code",
   "execution_count": 82,
   "metadata": {},
   "outputs": [],
   "source": [
    "import pandas as pd\n",
    "import matplotlib.pyplot as plt\n",
    "import numpy as np"
   ]
  },
  {
   "cell_type": "markdown",
   "metadata": {},
   "source": [
    "# Keypress"
   ]
  },
  {
   "cell_type": "code",
   "execution_count": 83,
   "metadata": {},
   "outputs": [],
   "source": [
    "#keyPress = pd.read_csv('../agg_datasets/KeyPressEvent.csv',index_col = 0)\n",
    "keyPress = pd.read_csv('./../Our Data/KeyPressEvent.csv',index_col = 0)"
   ]
  },
  {
   "cell_type": "code",
   "execution_count": 84,
   "metadata": {},
   "outputs": [],
   "source": [
    "#keyPress = keyPress.rename(columns={'PressType':'ActivityID','ActivityID':'PressType'})"
   ]
  },
  {
   "cell_type": "code",
   "execution_count": 85,
   "metadata": {},
   "outputs": [],
   "source": [
    "#keyPress['SessionID'] = np.floor(keyPress.ActivityID/10e6).astype(int)\n",
    "keyPress['SessionID'] = keyPress.ActivityID"
   ]
  },
  {
   "cell_type": "code",
   "execution_count": 86,
   "metadata": {},
   "outputs": [],
   "source": [
    "aux = keyPress[['Systime','SessionID']].groupby('SessionID').agg([np.min,np.max]).Systime"
   ]
  },
  {
   "cell_type": "code",
   "execution_count": 87,
   "metadata": {},
   "outputs": [],
   "source": [
    "aux['diff'] = aux.amax - aux.amin\n",
    "aux = aux.reset_index()"
   ]
  },
  {
   "cell_type": "code",
   "execution_count": 88,
   "metadata": {},
   "outputs": [],
   "source": [
    "bla = []\n",
    "step = 10000\n",
    "for _,row in aux.iterrows():\n",
    "    i = 0\n",
    "    t0 = row.amin\n",
    "    while (t0+step < row.amax):\n",
    "        aux_dict = {}\n",
    "        aux_dict['SessionID'] = row.SessionID\n",
    "        aux_dict['WindowNumber'] = i\n",
    "        aux_dict['WindowStart'] = t0\n",
    "        aux_dict['WindowEnd'] = t0+step\n",
    "        t0 += step\n",
    "        i += 1\n",
    "        bla.append(aux_dict)"
   ]
  },
  {
   "cell_type": "code",
   "execution_count": 89,
   "metadata": {},
   "outputs": [],
   "source": [
    "fim = pd.DataFrame(bla)"
   ]
  },
  {
   "cell_type": "code",
   "execution_count": 90,
   "metadata": {},
   "outputs": [],
   "source": [
    "fim.to_csv('skeleton.csv',index=False)"
   ]
  },
  {
   "cell_type": "code",
   "execution_count": 91,
   "metadata": {},
   "outputs": [],
   "source": [
    "skeleton = pd.read_csv('skeleton.csv')"
   ]
  },
  {
   "cell_type": "code",
   "execution_count": 92,
   "metadata": {},
   "outputs": [
    {
     "name": "stdout",
     "output_type": "stream",
     "text": [
      "CPU times: user 440 ms, sys: 267 ms, total: 707 ms\n",
      "Wall time: 736 ms\n"
     ]
    }
   ],
   "source": [
    "%%time\n",
    "aux = keyPress.merge(fim,on='SessionID')"
   ]
  },
  {
   "cell_type": "code",
   "execution_count": 93,
   "metadata": {},
   "outputs": [],
   "source": [
    "aux = aux[(aux.Systime >= aux.WindowStart) & (aux.Systime <= aux.WindowEnd)]"
   ]
  },
  {
   "cell_type": "code",
   "execution_count": 94,
   "metadata": {},
   "outputs": [],
   "source": [
    "aux_list = []\n",
    "last_session = -1\n",
    "last_windowNumber = -1\n",
    "last_windowEnd = -1\n",
    "count = 0\n",
    "j = 0\n",
    "for _,row in keyPress.iterrows():\n",
    "    if row.SessionID != last_session:\n",
    "        skeletonWithSessionId = skeleton[skeleton.SessionID == row.SessionID]\n",
    "        last_session = row.SessionID\n",
    "    currentSystime = int(row.Systime)\n",
    "    if currentSystime > last_windowEnd:\n",
    "        final_df = skeletonWithSessionId[(skeletonWithSessionId.WindowStart <= currentSystime) & (skeletonWithSessionId.WindowEnd > currentSystime)]\n",
    "        if final_df.empty:\n",
    "            last_windowEnd = -1\n",
    "            last_windowNumber = -1\n",
    "        else:\n",
    "            last_windowEnd = final_df.WindowEnd.values[0]\n",
    "            last_windowNumber = final_df.WindowNumber.values[0]\n",
    "    aux_list.append(last_windowNumber)\n",
    "    count = count + 1\n",
    "    j = j + 1\n",
    "    if (j == 100000):\n",
    "        print(count)\n",
    "        j = 0\n",
    "keyPress['WindowNumber'] = aux_list"
   ]
  },
  {
   "cell_type": "code",
   "execution_count": 95,
   "metadata": {},
   "outputs": [],
   "source": [
    "keyPress.to_csv('../Our Data Windowed/KeyPressEvent.csv',index=False)"
   ]
  },
  {
   "cell_type": "markdown",
   "metadata": {},
   "source": [
    "# Touch Event"
   ]
  },
  {
   "cell_type": "code",
   "execution_count": 96,
   "metadata": {},
   "outputs": [],
   "source": [
    "#keyPress = pd.read_csv('../agg_datasets/TouchEvent.csv')\n",
    "keyPress = pd.read_csv('./../Our Data/KeyboardTouchEvent.csv',index_col = 0)"
   ]
  },
  {
   "cell_type": "code",
   "execution_count": 97,
   "metadata": {},
   "outputs": [],
   "source": [
    "#keyPress['SessionID'] = np.floor(keyPress.ActivityID/10e6)\n",
    "keyPress['SessionID'] = keyPress.ActivityID"
   ]
  },
  {
   "cell_type": "code",
   "execution_count": 98,
   "metadata": {},
   "outputs": [],
   "source": [
    "skeleton = pd.read_csv('skeleton.csv')"
   ]
  },
  {
   "cell_type": "code",
   "execution_count": 99,
   "metadata": {},
   "outputs": [],
   "source": [
    "aux_list = []\n",
    "last_session = -1\n",
    "last_windowNumber = -1\n",
    "last_windowEnd = -1\n",
    "count = 0\n",
    "j = 0\n",
    "for _,row in keyPress.iterrows():\n",
    "    if row.SessionID != last_session:\n",
    "        skeletonWithSessionId = skeleton[skeleton.SessionID == row.SessionID]\n",
    "        last_session = row.SessionID\n",
    "    currentSystime = int(row.Systime)\n",
    "    if currentSystime > last_windowEnd:\n",
    "        final_df = skeletonWithSessionId[(skeletonWithSessionId.WindowStart <= currentSystime) & (skeletonWithSessionId.WindowEnd > currentSystime)]\n",
    "        if final_df.empty:\n",
    "            last_windowEnd = -1\n",
    "            last_windowNumber = -1\n",
    "        else:\n",
    "            last_windowEnd = final_df.WindowEnd.values[0]\n",
    "            last_windowNumber = final_df.WindowNumber.values[0]\n",
    "    aux_list.append(last_windowNumber)\n",
    "    count = count + 1\n",
    "    j = j + 1\n",
    "    if (j == 100000):\n",
    "        print(count)\n",
    "        j = 0\n",
    "keyPress['WindowNumber'] = aux_list"
   ]
  },
  {
   "cell_type": "code",
   "execution_count": 100,
   "metadata": {},
   "outputs": [],
   "source": [
    "#keyPress.to_csv('../windowed/TouchEvent.csv',index=False)\n",
    "keyPress.to_csv('../Our Data Windowed/TouchEvent.csv',index=False)"
   ]
  },
  {
   "cell_type": "markdown",
   "metadata": {},
   "source": [
    "# Accelerometer"
   ]
  },
  {
   "cell_type": "code",
   "execution_count": 101,
   "metadata": {},
   "outputs": [],
   "source": [
    "keyPress = pd.read_csv('./../Our Data/Accelerometer.csv',index_col = 0)"
   ]
  },
  {
   "cell_type": "code",
   "execution_count": 102,
   "metadata": {},
   "outputs": [],
   "source": [
    "keyPress['SessionID'] = keyPress.ActivityID"
   ]
  },
  {
   "cell_type": "code",
   "execution_count": 103,
   "metadata": {},
   "outputs": [],
   "source": [
    "skeleton = pd.read_csv('skeleton.csv')"
   ]
  },
  {
   "cell_type": "code",
   "execution_count": 104,
   "metadata": {},
   "outputs": [
    {
     "name": "stdout",
     "output_type": "stream",
     "text": [
      "100000\n",
      "200000\n",
      "300000\n",
      "400000\n",
      "500000\n"
     ]
    }
   ],
   "source": [
    "aux_list = []\n",
    "last_session = -1\n",
    "last_windowNumber = -1\n",
    "last_windowEnd = -1\n",
    "count = 0\n",
    "j = 0\n",
    "for _,row in keyPress.iterrows():\n",
    "    if row.SessionID != last_session:\n",
    "        skeletonWithSessionId = skeleton[skeleton.SessionID == row.SessionID]\n",
    "        last_session = row.SessionID\n",
    "    currentSystime = int(row.Systime)\n",
    "    if currentSystime > last_windowEnd:\n",
    "        final_df = skeletonWithSessionId[(skeletonWithSessionId.WindowStart <= currentSystime) & (skeletonWithSessionId.WindowEnd > currentSystime)]\n",
    "        if final_df.empty:\n",
    "            last_windowEnd = -1\n",
    "            last_windowNumber = -1\n",
    "        else:\n",
    "            last_windowEnd = final_df.WindowEnd.values[0]\n",
    "            last_windowNumber = final_df.WindowNumber.values[0]\n",
    "    aux_list.append(last_windowNumber)\n",
    "    count = count + 1\n",
    "    j = j + 1\n",
    "    if (j == 100000):\n",
    "        print(count)\n",
    "        j = 0\n",
    "keyPress['WindowNumber'] = aux_list"
   ]
  },
  {
   "cell_type": "code",
   "execution_count": 105,
   "metadata": {},
   "outputs": [],
   "source": [
    "keyPress.to_csv('../Our Data Windowed/Accelerometer.csv',index=False)"
   ]
  },
  {
   "cell_type": "markdown",
   "metadata": {},
   "source": [
    "# Gyroscope"
   ]
  },
  {
   "cell_type": "code",
   "execution_count": 106,
   "metadata": {},
   "outputs": [],
   "source": [
    "keyPress = pd.read_csv('./../Our Data/Gyroscope.csv',index_col = 0)"
   ]
  },
  {
   "cell_type": "code",
   "execution_count": 107,
   "metadata": {},
   "outputs": [],
   "source": [
    "keyPress['SessionID'] = keyPress.ActivityID"
   ]
  },
  {
   "cell_type": "code",
   "execution_count": 108,
   "metadata": {},
   "outputs": [],
   "source": [
    "skeleton = pd.read_csv('skeleton.csv')"
   ]
  },
  {
   "cell_type": "code",
   "execution_count": 109,
   "metadata": {},
   "outputs": [],
   "source": [
    "aux_list = []\n",
    "last_session = -1\n",
    "last_windowNumber = -1\n",
    "last_windowEnd = -1\n",
    "count = 0\n",
    "j = 0\n",
    "for _,row in keyPress.iterrows():\n",
    "    if row.SessionID != last_session:\n",
    "        skeletonWithSessionId = skeleton[skeleton.SessionID == row.SessionID]\n",
    "        last_session = row.SessionID\n",
    "    currentSystime = int(row.Systime)\n",
    "    if currentSystime > last_windowEnd:\n",
    "        final_df = skeletonWithSessionId[(skeletonWithSessionId.WindowStart <= currentSystime) & (skeletonWithSessionId.WindowEnd > currentSystime)]\n",
    "        if final_df.empty:\n",
    "            last_windowEnd = -1\n",
    "            last_windowNumber = -1\n",
    "        else:\n",
    "            last_windowEnd = final_df.WindowEnd.values[0]\n",
    "            last_windowNumber = final_df.WindowNumber.values[0]\n",
    "    aux_list.append(last_windowNumber)\n",
    "    count = count + 1\n",
    "    j = j + 1\n",
    "    if (j == 100000):\n",
    "        print(count)\n",
    "        j = 0\n",
    "keyPress['WindowNumber'] = aux_list"
   ]
  },
  {
   "cell_type": "code",
   "execution_count": 110,
   "metadata": {},
   "outputs": [],
   "source": [
    "keyPress.to_csv('../Our Data Windowed/Gyroscope.csv',index=False)"
   ]
  },
  {
   "cell_type": "markdown",
   "metadata": {},
   "source": [
    "# Magnetometer"
   ]
  },
  {
   "cell_type": "code",
   "execution_count": 111,
   "metadata": {},
   "outputs": [],
   "source": [
    "keyPress = pd.read_csv('./../Our Data/Magnetometer.csv',index_col = 0)"
   ]
  },
  {
   "cell_type": "code",
   "execution_count": 112,
   "metadata": {},
   "outputs": [],
   "source": [
    "keyPress['SessionID'] = keyPress.ActivityID"
   ]
  },
  {
   "cell_type": "code",
   "execution_count": 113,
   "metadata": {},
   "outputs": [],
   "source": [
    "skeleton = pd.read_csv('skeleton.csv')"
   ]
  },
  {
   "cell_type": "code",
   "execution_count": 114,
   "metadata": {},
   "outputs": [],
   "source": [
    "aux_list = []\n",
    "last_session = -1\n",
    "last_windowNumber = -1\n",
    "last_windowEnd = -1\n",
    "count = 0\n",
    "j = 0\n",
    "for _,row in keyPress.iterrows():\n",
    "    if row.SessionID != last_session:\n",
    "        skeletonWithSessionId = skeleton[skeleton.SessionID == row.SessionID]\n",
    "        last_session = row.SessionID\n",
    "    currentSystime = int(row.Systime)\n",
    "    if currentSystime > last_windowEnd:\n",
    "        final_df = skeletonWithSessionId[(skeletonWithSessionId.WindowStart <= currentSystime) & (skeletonWithSessionId.WindowEnd > currentSystime)]\n",
    "        if final_df.empty:\n",
    "            last_windowEnd = -1\n",
    "            last_windowNumber = -1\n",
    "        else:\n",
    "            last_windowEnd = final_df.WindowEnd.values[0]\n",
    "            last_windowNumber = final_df.WindowNumber.values[0]\n",
    "    aux_list.append(last_windowNumber)\n",
    "    count = count + 1\n",
    "    j = j + 1\n",
    "    if (j == 100000):\n",
    "        print(count)\n",
    "        j = 0\n",
    "keyPress['WindowNumber'] = aux_list"
   ]
  },
  {
   "cell_type": "code",
   "execution_count": 115,
   "metadata": {},
   "outputs": [],
   "source": [
    "keyPress.to_csv('../Our Data Windowed/Magnetometer.csv',index=False)"
   ]
  },
  {
   "cell_type": "code",
   "execution_count": null,
   "metadata": {},
   "outputs": [],
   "source": []
  },
  {
   "cell_type": "code",
   "execution_count": null,
   "metadata": {},
   "outputs": [],
   "source": []
  },
  {
   "cell_type": "code",
   "execution_count": null,
   "metadata": {},
   "outputs": [],
   "source": []
  },
  {
   "cell_type": "code",
   "execution_count": null,
   "metadata": {},
   "outputs": [],
   "source": []
  },
  {
   "cell_type": "code",
   "execution_count": null,
   "metadata": {},
   "outputs": [],
   "source": []
  }
 ],
 "metadata": {
  "kernelspec": {
   "display_name": "Python 3",
   "language": "python",
   "name": "python3"
  },
  "language_info": {
   "codemirror_mode": {
    "name": "ipython",
    "version": 3
   },
   "file_extension": ".py",
   "mimetype": "text/x-python",
   "name": "python",
   "nbconvert_exporter": "python",
   "pygments_lexer": "ipython3",
   "version": "3.6.4"
  }
 },
 "nbformat": 4,
 "nbformat_minor": 2
}
