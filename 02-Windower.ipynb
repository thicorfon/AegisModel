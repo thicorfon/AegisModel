{
 "cells": [
  {
   "cell_type": "code",
   "execution_count": 1,
   "metadata": {},
   "outputs": [],
   "source": [
    "import pandas as pd\n",
    "import matplotlib.pyplot as plt\n",
    "import numpy as np"
   ]
  },
  {
   "cell_type": "markdown",
   "metadata": {},
   "source": [
    "# Keypress"
   ]
  },
  {
   "cell_type": "code",
   "execution_count": null,
   "metadata": {},
   "outputs": [],
   "source": [
    "keyPress = pd.read_csv('/Volumes/Untitled/agg_datasets/KeyPressEvent.csv',index_col = 0)\n",
    "#keyPress = pd.read_csv('./../Our Data/KeyPressEvent.csv',index_col = 0)"
   ]
  },
  {
   "cell_type": "code",
   "execution_count": null,
   "metadata": {},
   "outputs": [],
   "source": [
    "keyPress = keyPress.rename(columns={'PressType':'ActivityID','ActivityID':'PressType'})"
   ]
  },
  {
   "cell_type": "code",
   "execution_count": null,
   "metadata": {},
   "outputs": [],
   "source": [
    "keyPress['SessionID'] = np.floor(keyPress.ActivityID/10e6).astype(int)\n",
    "#keyPress['SessionID'] = keyPress.ActivityID"
   ]
  },
  {
   "cell_type": "code",
   "execution_count": null,
   "metadata": {},
   "outputs": [],
   "source": [
    "aux = keyPress[['Systime','SessionID']].groupby('SessionID').agg([np.min,np.max]).Systime"
   ]
  },
  {
   "cell_type": "code",
   "execution_count": null,
   "metadata": {},
   "outputs": [],
   "source": [
    "aux['diff'] = aux.amax - aux.amin\n",
    "aux = aux.reset_index()"
   ]
  },
  {
   "cell_type": "code",
   "execution_count": null,
   "metadata": {},
   "outputs": [],
   "source": [
    "bla = []\n",
    "step = 10000\n",
    "for _,row in aux.iterrows():\n",
    "    i = 0\n",
    "    t0 = row.amin\n",
    "    while (t0+step < row.amax):\n",
    "        aux_dict = {}\n",
    "        aux_dict['SessionID'] = row.SessionID\n",
    "        aux_dict['WindowNumber'] = i\n",
    "        aux_dict['WindowStart'] = t0\n",
    "        aux_dict['WindowEnd'] = t0+step\n",
    "        t0 += step\n",
    "        i += 1\n",
    "        bla.append(aux_dict)"
   ]
  },
  {
   "cell_type": "code",
   "execution_count": null,
   "metadata": {},
   "outputs": [],
   "source": [
    "fim = pd.DataFrame(bla)"
   ]
  },
  {
   "cell_type": "code",
   "execution_count": 6,
   "metadata": {},
   "outputs": [
    {
     "ename": "NameError",
     "evalue": "name 'fim' is not defined",
     "output_type": "error",
     "traceback": [
      "\u001b[0;31m---------------------------------------------------------------------------\u001b[0m",
      "\u001b[0;31mNameError\u001b[0m                                 Traceback (most recent call last)",
      "\u001b[0;32m<ipython-input-6-73b1b5835512>\u001b[0m in \u001b[0;36m<module>\u001b[0;34m()\u001b[0m\n\u001b[0;32m----> 1\u001b[0;31m \u001b[0mfim\u001b[0m\u001b[0;34m.\u001b[0m\u001b[0mto_csv\u001b[0m\u001b[0;34m(\u001b[0m\u001b[0;34m'skeleton.csv'\u001b[0m\u001b[0;34m,\u001b[0m\u001b[0mindex\u001b[0m\u001b[0;34m=\u001b[0m\u001b[0;32mFalse\u001b[0m\u001b[0;34m)\u001b[0m\u001b[0;34m\u001b[0m\u001b[0m\n\u001b[0m",
      "\u001b[0;31mNameError\u001b[0m: name 'fim' is not defined"
     ]
    }
   ],
   "source": [
    "fim.to_csv('skeleton.csv',index=False)"
   ]
  },
  {
   "cell_type": "code",
   "execution_count": 2,
   "metadata": {},
   "outputs": [],
   "source": [
    "skeleton = pd.read_csv('other_skeleton_10secs.csv')"
   ]
  },
  {
   "cell_type": "code",
   "execution_count": null,
   "metadata": {},
   "outputs": [],
   "source": [
    "%%time\n",
    "aux = keyPress.merge(fim,on='SessionID')"
   ]
  },
  {
   "cell_type": "code",
   "execution_count": null,
   "metadata": {},
   "outputs": [],
   "source": [
    "aux = aux[(aux.Systime >= aux.WindowStart) & (aux.Systime <= aux.WindowEnd)]"
   ]
  },
  {
   "cell_type": "code",
   "execution_count": null,
   "metadata": {},
   "outputs": [],
   "source": [
    "aux_list = []\n",
    "last_session = -1\n",
    "last_windowNumber = -1\n",
    "last_windowEnd = -1\n",
    "count = 0\n",
    "j = 0\n",
    "for _,row in keyPress.iterrows():\n",
    "    if row.SessionID != last_session:\n",
    "        skeletonWithSessionId = skeleton[skeleton.SessionID == row.SessionID]\n",
    "        last_session = row.SessionID\n",
    "    currentSystime = int(row.Systime)\n",
    "    if currentSystime > last_windowEnd:\n",
    "        final_df = skeletonWithSessionId[(skeletonWithSessionId.WindowStart <= currentSystime) & (skeletonWithSessionId.WindowEnd > currentSystime)]\n",
    "        if final_df.empty:\n",
    "            last_windowEnd = -1\n",
    "            last_windowNumber = -1\n",
    "        else:\n",
    "            last_windowEnd = final_df.WindowEnd.values[0]\n",
    "            last_windowNumber = final_df.WindowNumber.values[0]\n",
    "    aux_list.append(last_windowNumber)\n",
    "    count = count + 1\n",
    "    j = j + 1\n",
    "    if (j == 100000):\n",
    "        print(count)\n",
    "        j = 0\n",
    "keyPress['WindowNumber'] = aux_list"
   ]
  },
  {
   "cell_type": "code",
   "execution_count": null,
   "metadata": {},
   "outputs": [],
   "source": [
    "keyPress.to_csv('/Volumes/Untitled/windowed/KeyPressEvent.gz',index=False,compression='gzip')"
   ]
  },
  {
   "cell_type": "markdown",
   "metadata": {
    "heading_collapsed": true
   },
   "source": [
    "# Touch Event"
   ]
  },
  {
   "cell_type": "code",
   "execution_count": null,
   "metadata": {
    "hidden": true
   },
   "outputs": [],
   "source": [
    "keyPress = pd.read_csv('/Volumes/Untitled/agg_datasets/TouchEvent.csv')\n",
    "#keyPress = pd.read_csv('./../Our Data/KeyboardTouchEvent.csv',index_col = 0)"
   ]
  },
  {
   "cell_type": "code",
   "execution_count": null,
   "metadata": {
    "hidden": true
   },
   "outputs": [],
   "source": [
    "keyPress['SessionID'] = np.floor(keyPress.ActivityID/10e6)\n",
    "#keyPress['SessionID'] = keyPress.ActivityID"
   ]
  },
  {
   "cell_type": "code",
   "execution_count": null,
   "metadata": {
    "hidden": true,
    "scrolled": true
   },
   "outputs": [],
   "source": [
    "aux_list = []\n",
    "last_session = -1\n",
    "last_windowNumber = -1\n",
    "last_windowEnd = -1\n",
    "count = 0\n",
    "j = 0\n",
    "for _,row in keyPress.iterrows():\n",
    "    if row.SessionID != last_session:\n",
    "        skeletonWithSessionId = skeleton[skeleton.SessionID == row.SessionID]\n",
    "        last_session = row.SessionID\n",
    "    currentSystime = int(row.Systime)\n",
    "    if currentSystime > last_windowEnd:\n",
    "        final_df = skeletonWithSessionId[(skeletonWithSessionId.WindowStart <= currentSystime) & (skeletonWithSessionId.WindowEnd > currentSystime)]\n",
    "        if final_df.empty:\n",
    "            last_windowEnd = -1\n",
    "            last_windowNumber = -1\n",
    "        else:\n",
    "            last_windowEnd = final_df.WindowEnd.values[0]\n",
    "            last_windowNumber = final_df.WindowNumber.values[0]\n",
    "    aux_list.append(last_windowNumber)\n",
    "    count = count + 1\n",
    "    j = j + 1\n",
    "    if (j == 100000):\n",
    "        print(count)\n",
    "        j = 0\n",
    "keyPress['WindowNumber'] = aux_list"
   ]
  },
  {
   "cell_type": "code",
   "execution_count": null,
   "metadata": {
    "hidden": true
   },
   "outputs": [],
   "source": [
    "keyPress.to_csv('/Volumes/Untitled/windowed/TouchEvent.csv',index=False,compression='gzip')\n",
    "#keyPress.to_csv('../Our Data Windowed/TouchEvent.csv',index=False)"
   ]
  },
  {
   "cell_type": "markdown",
   "metadata": {},
   "source": [
    "# Accelerometer"
   ]
  },
  {
   "cell_type": "code",
   "execution_count": 3,
   "metadata": {},
   "outputs": [
    {
     "ename": "KeyboardInterrupt",
     "evalue": "",
     "output_type": "error",
     "traceback": [
      "\u001b[0;31m---------------------------------------------------------------------------\u001b[0m",
      "\u001b[0;31mKeyboardInterrupt\u001b[0m                         Traceback (most recent call last)",
      "\u001b[0;32m<ipython-input-3-b3bdec8d0551>\u001b[0m in \u001b[0;36m<module>\u001b[0;34m()\u001b[0m\n\u001b[0;32m----> 1\u001b[0;31m \u001b[0mkeyPress\u001b[0m \u001b[0;34m=\u001b[0m \u001b[0mpd\u001b[0m\u001b[0;34m.\u001b[0m\u001b[0mread_csv\u001b[0m\u001b[0;34m(\u001b[0m\u001b[0;34m'/Volumes/Untitled/agg_datasets/Accelerometer.csv'\u001b[0m\u001b[0;34m,\u001b[0m\u001b[0mindex_col\u001b[0m \u001b[0;34m=\u001b[0m \u001b[0;36m0\u001b[0m\u001b[0;34m)\u001b[0m\u001b[0;34m\u001b[0m\u001b[0m\n\u001b[0m",
      "\u001b[0;32m~/anaconda3/lib/python3.6/site-packages/pandas/io/parsers.py\u001b[0m in \u001b[0;36mparser_f\u001b[0;34m(filepath_or_buffer, sep, delimiter, header, names, index_col, usecols, squeeze, prefix, mangle_dupe_cols, dtype, engine, converters, true_values, false_values, skipinitialspace, skiprows, nrows, na_values, keep_default_na, na_filter, verbose, skip_blank_lines, parse_dates, infer_datetime_format, keep_date_col, date_parser, dayfirst, iterator, chunksize, compression, thousands, decimal, lineterminator, quotechar, quoting, escapechar, comment, encoding, dialect, tupleize_cols, error_bad_lines, warn_bad_lines, skipfooter, skip_footer, doublequote, delim_whitespace, as_recarray, compact_ints, use_unsigned, low_memory, buffer_lines, memory_map, float_precision)\u001b[0m\n\u001b[1;32m    707\u001b[0m                     skip_blank_lines=skip_blank_lines)\n\u001b[1;32m    708\u001b[0m \u001b[0;34m\u001b[0m\u001b[0m\n\u001b[0;32m--> 709\u001b[0;31m         \u001b[0;32mreturn\u001b[0m \u001b[0m_read\u001b[0m\u001b[0;34m(\u001b[0m\u001b[0mfilepath_or_buffer\u001b[0m\u001b[0;34m,\u001b[0m \u001b[0mkwds\u001b[0m\u001b[0;34m)\u001b[0m\u001b[0;34m\u001b[0m\u001b[0m\n\u001b[0m\u001b[1;32m    710\u001b[0m \u001b[0;34m\u001b[0m\u001b[0m\n\u001b[1;32m    711\u001b[0m     \u001b[0mparser_f\u001b[0m\u001b[0;34m.\u001b[0m\u001b[0m__name__\u001b[0m \u001b[0;34m=\u001b[0m \u001b[0mname\u001b[0m\u001b[0;34m\u001b[0m\u001b[0m\n",
      "\u001b[0;32m~/anaconda3/lib/python3.6/site-packages/pandas/io/parsers.py\u001b[0m in \u001b[0;36m_read\u001b[0;34m(filepath_or_buffer, kwds)\u001b[0m\n\u001b[1;32m    453\u001b[0m \u001b[0;34m\u001b[0m\u001b[0m\n\u001b[1;32m    454\u001b[0m     \u001b[0;32mtry\u001b[0m\u001b[0;34m:\u001b[0m\u001b[0;34m\u001b[0m\u001b[0m\n\u001b[0;32m--> 455\u001b[0;31m         \u001b[0mdata\u001b[0m \u001b[0;34m=\u001b[0m \u001b[0mparser\u001b[0m\u001b[0;34m.\u001b[0m\u001b[0mread\u001b[0m\u001b[0;34m(\u001b[0m\u001b[0mnrows\u001b[0m\u001b[0;34m)\u001b[0m\u001b[0;34m\u001b[0m\u001b[0m\n\u001b[0m\u001b[1;32m    456\u001b[0m     \u001b[0;32mfinally\u001b[0m\u001b[0;34m:\u001b[0m\u001b[0;34m\u001b[0m\u001b[0m\n\u001b[1;32m    457\u001b[0m         \u001b[0mparser\u001b[0m\u001b[0;34m.\u001b[0m\u001b[0mclose\u001b[0m\u001b[0;34m(\u001b[0m\u001b[0;34m)\u001b[0m\u001b[0;34m\u001b[0m\u001b[0m\n",
      "\u001b[0;32m~/anaconda3/lib/python3.6/site-packages/pandas/io/parsers.py\u001b[0m in \u001b[0;36mread\u001b[0;34m(self, nrows)\u001b[0m\n\u001b[1;32m   1067\u001b[0m                 \u001b[0;32mraise\u001b[0m \u001b[0mValueError\u001b[0m\u001b[0;34m(\u001b[0m\u001b[0;34m'skipfooter not supported for iteration'\u001b[0m\u001b[0;34m)\u001b[0m\u001b[0;34m\u001b[0m\u001b[0m\n\u001b[1;32m   1068\u001b[0m \u001b[0;34m\u001b[0m\u001b[0m\n\u001b[0;32m-> 1069\u001b[0;31m         \u001b[0mret\u001b[0m \u001b[0;34m=\u001b[0m \u001b[0mself\u001b[0m\u001b[0;34m.\u001b[0m\u001b[0m_engine\u001b[0m\u001b[0;34m.\u001b[0m\u001b[0mread\u001b[0m\u001b[0;34m(\u001b[0m\u001b[0mnrows\u001b[0m\u001b[0;34m)\u001b[0m\u001b[0;34m\u001b[0m\u001b[0m\n\u001b[0m\u001b[1;32m   1070\u001b[0m \u001b[0;34m\u001b[0m\u001b[0m\n\u001b[1;32m   1071\u001b[0m         \u001b[0;32mif\u001b[0m \u001b[0mself\u001b[0m\u001b[0;34m.\u001b[0m\u001b[0moptions\u001b[0m\u001b[0;34m.\u001b[0m\u001b[0mget\u001b[0m\u001b[0;34m(\u001b[0m\u001b[0;34m'as_recarray'\u001b[0m\u001b[0;34m)\u001b[0m\u001b[0;34m:\u001b[0m\u001b[0;34m\u001b[0m\u001b[0m\n",
      "\u001b[0;32m~/anaconda3/lib/python3.6/site-packages/pandas/io/parsers.py\u001b[0m in \u001b[0;36mread\u001b[0;34m(self, nrows)\u001b[0m\n\u001b[1;32m   1837\u001b[0m     \u001b[0;32mdef\u001b[0m \u001b[0mread\u001b[0m\u001b[0;34m(\u001b[0m\u001b[0mself\u001b[0m\u001b[0;34m,\u001b[0m \u001b[0mnrows\u001b[0m\u001b[0;34m=\u001b[0m\u001b[0;32mNone\u001b[0m\u001b[0;34m)\u001b[0m\u001b[0;34m:\u001b[0m\u001b[0;34m\u001b[0m\u001b[0m\n\u001b[1;32m   1838\u001b[0m         \u001b[0;32mtry\u001b[0m\u001b[0;34m:\u001b[0m\u001b[0;34m\u001b[0m\u001b[0m\n\u001b[0;32m-> 1839\u001b[0;31m             \u001b[0mdata\u001b[0m \u001b[0;34m=\u001b[0m \u001b[0mself\u001b[0m\u001b[0;34m.\u001b[0m\u001b[0m_reader\u001b[0m\u001b[0;34m.\u001b[0m\u001b[0mread\u001b[0m\u001b[0;34m(\u001b[0m\u001b[0mnrows\u001b[0m\u001b[0;34m)\u001b[0m\u001b[0;34m\u001b[0m\u001b[0m\n\u001b[0m\u001b[1;32m   1840\u001b[0m         \u001b[0;32mexcept\u001b[0m \u001b[0mStopIteration\u001b[0m\u001b[0;34m:\u001b[0m\u001b[0;34m\u001b[0m\u001b[0m\n\u001b[1;32m   1841\u001b[0m             \u001b[0;32mif\u001b[0m \u001b[0mself\u001b[0m\u001b[0;34m.\u001b[0m\u001b[0m_first_chunk\u001b[0m\u001b[0;34m:\u001b[0m\u001b[0;34m\u001b[0m\u001b[0m\n",
      "\u001b[0;32mpandas/_libs/parsers.pyx\u001b[0m in \u001b[0;36mpandas._libs.parsers.TextReader.read\u001b[0;34m()\u001b[0m\n",
      "\u001b[0;32mpandas/_libs/parsers.pyx\u001b[0m in \u001b[0;36mpandas._libs.parsers.TextReader._read_low_memory\u001b[0;34m()\u001b[0m\n",
      "\u001b[0;32mpandas/_libs/parsers.pyx\u001b[0m in \u001b[0;36mpandas._libs.parsers.TextReader._read_rows\u001b[0;34m()\u001b[0m\n",
      "\u001b[0;32mpandas/_libs/parsers.pyx\u001b[0m in \u001b[0;36mpandas._libs.parsers.TextReader._convert_column_data\u001b[0;34m()\u001b[0m\n",
      "\u001b[0;32mpandas/_libs/parsers.pyx\u001b[0m in \u001b[0;36mpandas._libs.parsers.TextReader._convert_tokens\u001b[0;34m()\u001b[0m\n",
      "\u001b[0;32mpandas/_libs/parsers.pyx\u001b[0m in \u001b[0;36mpandas._libs.parsers.TextReader._convert_with_dtype\u001b[0;34m()\u001b[0m\n",
      "\u001b[0;32m~/anaconda3/lib/python3.6/site-packages/pandas/core/dtypes/common.py\u001b[0m in \u001b[0;36mis_integer_dtype\u001b[0;34m(arr_or_dtype)\u001b[0m\n\u001b[1;32m    775\u001b[0m \u001b[0;34m\u001b[0m\u001b[0m\n\u001b[1;32m    776\u001b[0m \u001b[0;34m\u001b[0m\u001b[0m\n\u001b[0;32m--> 777\u001b[0;31m \u001b[0;32mdef\u001b[0m \u001b[0mis_integer_dtype\u001b[0m\u001b[0;34m(\u001b[0m\u001b[0marr_or_dtype\u001b[0m\u001b[0;34m)\u001b[0m\u001b[0;34m:\u001b[0m\u001b[0;34m\u001b[0m\u001b[0m\n\u001b[0m\u001b[1;32m    778\u001b[0m     \"\"\"\n\u001b[1;32m    779\u001b[0m     \u001b[0mCheck\u001b[0m \u001b[0mwhether\u001b[0m \u001b[0mthe\u001b[0m \u001b[0mprovided\u001b[0m \u001b[0marray\u001b[0m \u001b[0;32mor\u001b[0m \u001b[0mdtype\u001b[0m \u001b[0;32mis\u001b[0m \u001b[0mof\u001b[0m \u001b[0man\u001b[0m \u001b[0minteger\u001b[0m \u001b[0mdtype\u001b[0m\u001b[0;34m.\u001b[0m\u001b[0;34m\u001b[0m\u001b[0m\n",
      "\u001b[0;31mKeyboardInterrupt\u001b[0m: "
     ]
    }
   ],
   "source": [
    "keyPress = pd.read_csv('/Volumes/Untitled/agg_datasets/Accelerometer.csv',index_col = 0)"
   ]
  },
  {
   "cell_type": "code",
   "execution_count": null,
   "metadata": {},
   "outputs": [],
   "source": [
    "keyPress['SessionID'] = np.floor(keyPress.ActivityID/10e6)\n",
    "#keyPress['SessionID'] = keyPress.ActivityID"
   ]
  },
  {
   "cell_type": "code",
   "execution_count": null,
   "metadata": {},
   "outputs": [],
   "source": [
    "%%time\n",
    "aux_list = []\n",
    "last_session = -1\n",
    "last_windowNumber = -1\n",
    "last_windowEnd = -1\n",
    "count = 0\n",
    "j = 0\n",
    "for _,row in keyPress.iterrows():\n",
    "    if row.SessionID != last_session:\n",
    "        skeletonWithSessionId = skeleton[skeleton.SessionID == row.SessionID]\n",
    "        last_session = row.SessionID\n",
    "    currentSystime = int(row.Systime)\n",
    "    if currentSystime > last_windowEnd:\n",
    "        final_df = skeletonWithSessionId[(skeletonWithSessionId.WindowStart <= currentSystime) & (skeletonWithSessionId.WindowEnd > currentSystime)]\n",
    "        if final_df.empty:\n",
    "            last_windowEnd = -1\n",
    "            last_windowNumber = -1\n",
    "        else:\n",
    "            last_windowEnd = final_df.WindowEnd.values[0]\n",
    "            last_windowNumber = final_df.WindowNumber.values[0]\n",
    "    aux_list.append(last_windowNumber)\n",
    "    count = count + 1\n",
    "    j = j + 1\n",
    "    if (j == 100000):\n",
    "        print(count)\n",
    "        j = 0\n",
    "keyPress['WindowNumber'] = aux_list"
   ]
  },
  {
   "cell_type": "code",
   "execution_count": null,
   "metadata": {},
   "outputs": [],
   "source": [
    "#keyPress.to_csv('../Our Data Windowed/Accelerometer.csv',index=False)\n",
    "keyPress.to_csv('/Volumes/Untitled/windowed/Accelerometer.gz',index=False,compression='gzip')"
   ]
  },
  {
   "cell_type": "markdown",
   "metadata": {},
   "source": [
    "# Gyroscope"
   ]
  },
  {
   "cell_type": "code",
   "execution_count": 2,
   "metadata": {},
   "outputs": [
    {
     "name": "stderr",
     "output_type": "stream",
     "text": [
      "/Users/thicorfon/anaconda3/lib/python3.6/site-packages/numpy/lib/arraysetops.py:463: FutureWarning: elementwise comparison failed; returning scalar instead, but in the future will perform elementwise comparison\n",
      "  mask |= (ar1 == a)\n"
     ]
    }
   ],
   "source": [
    "#keyPress = pd.read_csv('./../Our Data/Gyroscope.csv',index_col = 0)\n",
    "keyPress = pd.read_csv('/Volumes/Untitled/agg_datasets/Gyroscope.csv',index_col = 0)"
   ]
  },
  {
   "cell_type": "code",
   "execution_count": 3,
   "metadata": {},
   "outputs": [],
   "source": [
    "keyPress = keyPress.rename(columns={'EventTime':'ActivityID'})"
   ]
  },
  {
   "cell_type": "code",
   "execution_count": 4,
   "metadata": {},
   "outputs": [],
   "source": [
    "keyPress['SessionID'] = np.floor(keyPress.ActivityID/10e6)\n",
    "#keyPress['SessionID'] = keyPress.ActivityID"
   ]
  },
  {
   "cell_type": "code",
   "execution_count": null,
   "metadata": {
    "scrolled": true
   },
   "outputs": [],
   "source": [
    "%%time\n",
    "aux_list = []\n",
    "last_session = -1\n",
    "last_windowNumber = -1\n",
    "last_windowEnd = -1\n",
    "count = 0\n",
    "j = 0\n",
    "for _,row in keyPress.iterrows():\n",
    "    if row.SessionID != last_session:\n",
    "        skeletonWithSessionId = skeleton[skeleton.SessionID == row.SessionID]\n",
    "        last_session = row.SessionID\n",
    "    currentSystime = int(row.Systime)\n",
    "    if currentSystime > last_windowEnd:\n",
    "        final_df = skeletonWithSessionId[(skeletonWithSessionId.WindowStart <= currentSystime) & (skeletonWithSessionId.WindowEnd > currentSystime)]\n",
    "        if final_df.empty:\n",
    "            last_windowEnd = -1\n",
    "            last_windowNumber = -1\n",
    "        else:\n",
    "            last_windowEnd = final_df.WindowEnd.values[0]\n",
    "            last_windowNumber = final_df.WindowNumber.values[0]\n",
    "    count = count + 1\n",
    "    j = j + 1\n",
    "    if (j == 100000):\n",
    "        print(count)\n",
    "        j = 0\n",
    "keyPress['WindowNumber'] = aux_list"
   ]
  },
  {
   "cell_type": "code",
   "execution_count": null,
   "metadata": {},
   "outputs": [],
   "source": [
    "#keyPress.to_csv('../Our Data Windowed/Gyroscope.csv',index=False)\n",
    "keyPress.to_csv('/Volumes/Untitled/windowed/Gyroscope.gz',index=False,compression='gzip')"
   ]
  },
  {
   "cell_type": "markdown",
   "metadata": {},
   "source": [
    "# Magnetometer"
   ]
  },
  {
   "cell_type": "code",
   "execution_count": null,
   "metadata": {},
   "outputs": [],
   "source": [
    "#keyPress = pd.read_csv('./../Our Data/Magnetometer.csv',index_col = 0)\n",
    "keyPress = pd.read_csv('/Volumes/Untitled/agg_datasets/Magnetometer.csv',index_col = 0)"
   ]
  },
  {
   "cell_type": "code",
   "execution_count": null,
   "metadata": {},
   "outputs": [],
   "source": [
    "keyPress['SessionID'] = np.floor(keyPress.ActivityID/10e6)\n",
    "#keyPress['SessionID'] = keyPress.ActivityID"
   ]
  },
  {
   "cell_type": "code",
   "execution_count": null,
   "metadata": {},
   "outputs": [],
   "source": [
    "aux_list = []\n",
    "last_session = -1\n",
    "last_windowNumber = -1\n",
    "last_windowEnd = -1\n",
    "count = 0\n",
    "j = 0\n",
    "for _,row in keyPress.iterrows():\n",
    "    if row.SessionID != last_session:\n",
    "        skeletonWithSessionId = skeleton[skeleton.SessionID == row.SessionID]\n",
    "        last_session = row.SessionID\n",
    "    currentSystime = int(row.Systime)\n",
    "    if currentSystime > last_windowEnd:\n",
    "        final_df = skeletonWithSessionId[(skeletonWithSessionId.WindowStart <= currentSystime) & (skeletonWithSessionId.WindowEnd > currentSystime)]\n",
    "        if final_df.empty:\n",
    "            last_windowEnd = -1\n",
    "            last_windowNumber = -1\n",
    "        else:\n",
    "            last_windowEnd = final_df.WindowEnd.values[0]\n",
    "            last_windowNumber = final_df.WindowNumber.values[0]\n",
    "    aux_list.append(last_windowNumber)\n",
    "    count = count + 1\n",
    "    j = j + 1\n",
    "    if (j == 100000):\n",
    "        print(count)\n",
    "        j = 0\n",
    "keyPress['WindowNumber'] = aux_list"
   ]
  },
  {
   "cell_type": "code",
   "execution_count": null,
   "metadata": {},
   "outputs": [],
   "source": [
    "#keyPress.to_csv('../Our Data Windowed/Magnetometer.csv',index=False)\n",
    "keyPress.to_csv('/Volumes/Untitled/windowed/Magetometer.gz',index=False,compression='gzip')"
   ]
  },
  {
   "cell_type": "code",
   "execution_count": null,
   "metadata": {},
   "outputs": [],
   "source": []
  }
 ],
 "metadata": {
  "kernelspec": {
   "display_name": "Python 3",
   "language": "python",
   "name": "python3"
  },
  "language_info": {
   "codemirror_mode": {
    "name": "ipython",
    "version": 3
   },
   "file_extension": ".py",
   "mimetype": "text/x-python",
   "name": "python",
   "nbconvert_exporter": "python",
   "pygments_lexer": "ipython3",
   "version": "3.6.4"
  }
 },
 "nbformat": 4,
 "nbformat_minor": 2
}
