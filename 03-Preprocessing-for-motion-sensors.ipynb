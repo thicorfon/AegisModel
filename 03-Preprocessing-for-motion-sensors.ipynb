{
 "cells": [
  {
   "cell_type": "code",
   "execution_count": 52,
   "metadata": {},
   "outputs": [],
   "source": [
    "import pandas as pd\n",
    "import matplotlib.pyplot as plt\n",
    "import numpy as np"
   ]
  },
  {
   "cell_type": "code",
   "execution_count": 53,
   "metadata": {},
   "outputs": [],
   "source": [
    "file_name = 'Gyroscope'\n",
    "df = pd.read_csv('../Our Data Windowed/' + file_name + '.csv')"
   ]
  },
  {
   "cell_type": "code",
   "execution_count": 54,
   "metadata": {},
   "outputs": [],
   "source": [
    "df = df[df.WindowNumber != -1]"
   ]
  },
  {
   "cell_type": "code",
   "execution_count": 55,
   "metadata": {},
   "outputs": [
    {
     "name": "stderr",
     "output_type": "stream",
     "text": [
      "/Users/thicorfon/anaconda3/lib/python3.6/site-packages/pandas/core/groupby.py:4291: FutureWarning: using a dict with renaming is deprecated and will be removed in a future version\n",
      "  return super(DataFrameGroupBy, self).aggregate(arg, *args, **kwargs)\n"
     ]
    }
   ],
   "source": [
    "grouped_df = df.groupby(['SessionID', 'WindowNumber']).agg({\n",
    "    'X': {\n",
    "        'X_mean':'mean',\n",
    "        'X_std': 'std'\n",
    "    },\n",
    "    'Y': {\n",
    "        'Y_mean':'mean',\n",
    "        'Y_std':'std'\n",
    "    },\n",
    "    'Z': {\n",
    "        'Z_mean':'mean',\n",
    "        'Z_std':'std'\n",
    "    }\n",
    "})"
   ]
  },
  {
   "cell_type": "code",
   "execution_count": 56,
   "metadata": {},
   "outputs": [],
   "source": [
    "grouped_df.columns = grouped_df.columns.droplevel()"
   ]
  },
  {
   "cell_type": "code",
   "execution_count": 57,
   "metadata": {},
   "outputs": [],
   "source": [
    "grouped_df = grouped_df.reset_index()"
   ]
  },
  {
   "cell_type": "code",
   "execution_count": 58,
   "metadata": {},
   "outputs": [],
   "source": [
    "grouped_df.to_csv('../Our Data Features/'+file_name+ '_mean_std.csv', index=False)"
   ]
  },
  {
   "cell_type": "markdown",
   "metadata": {},
   "source": [
    "## Accelerometer"
   ]
  },
  {
   "cell_type": "code",
   "execution_count": 59,
   "metadata": {},
   "outputs": [
    {
     "name": "stderr",
     "output_type": "stream",
     "text": [
      "/Users/thicorfon/anaconda3/lib/python3.6/site-packages/pandas/core/groupby.py:4291: FutureWarning: using a dict with renaming is deprecated and will be removed in a future version\n",
      "  return super(DataFrameGroupBy, self).aggregate(arg, *args, **kwargs)\n"
     ]
    }
   ],
   "source": [
    "file_name = 'Accelerometer'\n",
    "df = pd.read_csv('../Our Data Windowed/' + file_name + '.csv')\n",
    "df = df[df.WindowNumber != -1]\n",
    "grouped_df = df.groupby(['SessionID', 'WindowNumber']).agg({\n",
    "    'X': {\n",
    "        'X_mean':'mean',\n",
    "        'X_std': 'std'\n",
    "    },\n",
    "    'Y': {\n",
    "        'Y_mean':'mean',\n",
    "        'Y_std':'std'\n",
    "    },\n",
    "    'Z': {\n",
    "        'Z_mean':'mean',\n",
    "        'Z_std':'std'\n",
    "    }\n",
    "})\n",
    "grouped_df.columns = grouped_df.columns.droplevel()\n",
    "grouped_df = grouped_df.reset_index()\n",
    "grouped_df.to_csv('../Our Data Features/'+file_name+ '_mean_std.csv', index=False)"
   ]
  },
  {
   "cell_type": "markdown",
   "metadata": {},
   "source": [
    "## Magnetometer"
   ]
  },
  {
   "cell_type": "code",
   "execution_count": 51,
   "metadata": {},
   "outputs": [
    {
     "name": "stderr",
     "output_type": "stream",
     "text": [
      "/Users/thicorfon/anaconda3/lib/python3.6/site-packages/pandas/core/groupby.py:4291: FutureWarning: using a dict with renaming is deprecated and will be removed in a future version\n",
      "  return super(DataFrameGroupBy, self).aggregate(arg, *args, **kwargs)\n"
     ]
    }
   ],
   "source": [
    "file_name = 'Magnetometer'\n",
    "df = pd.read_csv('../Our Data Windowed/' + file_name + '.csv')\n",
    "df = df[df.WindowNumber != -1]\n",
    "grouped_df = df.groupby(['SessionID', 'WindowNumber']).agg({\n",
    "    'X': {\n",
    "        'X_mean':'mean',\n",
    "        'X_std': 'std'\n",
    "    },\n",
    "    'Y': {\n",
    "        'Y_mean':'mean',\n",
    "        'Y_std':'std'\n",
    "    },\n",
    "    'Z': {\n",
    "        'Z_mean':'mean',\n",
    "        'Z_std':'std'\n",
    "    }\n",
    "})\n",
    "grouped_df.columns = grouped_df.columns.droplevel()\n",
    "grouped_df = grouped_df.reset_index()\n",
    "grouped_df.to_csv('../Our Data Features/'+file_name+ '_mean_std.csv', index=False)"
   ]
  }
 ],
 "metadata": {
  "kernelspec": {
   "display_name": "Python 3",
   "language": "python",
   "name": "python3"
  },
  "language_info": {
   "codemirror_mode": {
    "name": "ipython",
    "version": 3
   },
   "file_extension": ".py",
   "mimetype": "text/x-python",
   "name": "python",
   "nbconvert_exporter": "python",
   "pygments_lexer": "ipython3",
   "version": "3.6.4"
  }
 },
 "nbformat": 4,
 "nbformat_minor": 2
}
