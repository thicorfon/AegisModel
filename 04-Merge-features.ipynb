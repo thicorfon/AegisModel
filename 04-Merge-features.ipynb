{
 "cells": [
  {
   "cell_type": "code",
   "execution_count": 73,
   "metadata": {},
   "outputs": [],
   "source": [
    "import pandas as pd\n",
    "import matplotlib.pyplot as plt\n",
    "import numpy as np\n",
    "import scipy.stats"
   ]
  },
  {
   "cell_type": "code",
   "execution_count": 74,
   "metadata": {},
   "outputs": [],
   "source": [
    "folder = '../Our Data Features/'"
   ]
  },
  {
   "cell_type": "code",
   "execution_count": 75,
   "metadata": {},
   "outputs": [],
   "source": [
    "file_name = 'five_seconds_features/TouchEvent_with_windows_mean_std'\n",
    "df_keypress = pd.read_csv(folder + 'KeyPressEvent_mean_std' + '.csv')\n",
    "df_touchevent = pd.read_csv(folder + 'TouchEvent_mean_std' + '.csv')\n",
    "df_accelerometer = pd.read_csv(folder + 'Accelerometer_mean_std' + '.csv')\n",
    "df_gyroscope = pd.read_csv(folder + 'Gyroscope_mean_std' + '.csv')\n",
    "df_magnetometer = pd.read_csv(folder + 'Magnetometer_mean_std' + '.csv')\n"
   ]
  },
  {
   "cell_type": "code",
   "execution_count": 76,
   "metadata": {},
   "outputs": [],
   "source": [
    "df_accelerometer = df_accelerometer.rename(columns = {\n",
    "    'X_mean': 'Acc_X_mean',\n",
    "    'X_std': 'Acc_X_std',\n",
    "    'Y_mean': 'Acc_Y_mean',\n",
    "    'Y_std': 'Acc_Y_std',\n",
    "    'Z_mean': 'Acc_Z_mean',\n",
    "    'Z_std': 'Acc_Z_std'\n",
    "})"
   ]
  },
  {
   "cell_type": "code",
   "execution_count": 77,
   "metadata": {},
   "outputs": [],
   "source": [
    "df_gyroscope = df_gyroscope.rename(columns = {\n",
    "    'X_mean': 'Gyr_X_mean',\n",
    "    'X_std': 'Gyr_X_std',\n",
    "    'Y_mean': 'Gyr_Y_mean',\n",
    "    'Y_std': 'Gyr_Y_std',\n",
    "    'Z_mean': 'Gyr_Z_mean',\n",
    "    'Z_std': 'Gyr_Z_std'\n",
    "})"
   ]
  },
  {
   "cell_type": "code",
   "execution_count": 78,
   "metadata": {
    "scrolled": true
   },
   "outputs": [],
   "source": [
    "df_magnetometer = df_magnetometer.rename(columns = {\n",
    "    'X_mean': 'Mag_X_mean',\n",
    "    'X_std': 'Mag_X_std',\n",
    "    'Y_mean': 'Mag_Y_mean',\n",
    "    'Y_std': 'Mag_Y_std',\n",
    "    'Z_mean': 'Mag_Z_mean',\n",
    "    'Z_std': 'Mag_Z_std'\n",
    "})"
   ]
  },
  {
   "cell_type": "code",
   "execution_count": 79,
   "metadata": {},
   "outputs": [],
   "source": [
    "df_features = df_keypress.merge(df_touchevent, how='left', on=['SessionID', 'WindowNumber']).merge(df_accelerometer, how='left', on=['SessionID', 'WindowNumber']).merge(df_gyroscope, how='left', on=['SessionID', 'WindowNumber']).merge(df_magnetometer, how='left', on=['SessionID', 'WindowNumber'])"
   ]
  },
  {
   "cell_type": "code",
   "execution_count": 80,
   "metadata": {},
   "outputs": [],
   "source": [
    "df_features.to_csv('our_data_aggregated_features.csv', index=False)"
   ]
  },
  {
   "cell_type": "code",
   "execution_count": null,
   "metadata": {},
   "outputs": [],
   "source": []
  }
 ],
 "metadata": {
  "kernelspec": {
   "display_name": "Python 3",
   "language": "python",
   "name": "python3"
  },
  "language_info": {
   "codemirror_mode": {
    "name": "ipython",
    "version": 3
   },
   "file_extension": ".py",
   "mimetype": "text/x-python",
   "name": "python",
   "nbconvert_exporter": "python",
   "pygments_lexer": "ipython3",
   "version": "3.6.4"
  }
 },
 "nbformat": 4,
 "nbformat_minor": 2
}
