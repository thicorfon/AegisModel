{
 "cells": [
  {
   "cell_type": "code",
   "execution_count": 1101,
   "metadata": {},
   "outputs": [],
   "source": [
    "import numpy as np\n",
    "import pandas as pd\n",
    "import xgboost as xgb\n",
    "import sklearn\n",
    "from sklearn.preprocessing import LabelEncoder\n",
    "from sklearn.preprocessing.imputation import Imputer\n",
    "from sklearn.ensemble import RandomForestClassifier\n",
    "from sklearn.metrics import f1_score, roc_auc_score\n",
    "from sklearn.cross_validation import StratifiedKFold\n",
    "from sklearn.preprocessing import LabelEncoder\n",
    "from sklearn.preprocessing import OneHotEncoder\n",
    "import os\n",
    "import random\n",
    "import matplotlib.pyplot as plt"
   ]
  },
  {
   "cell_type": "code",
   "execution_count": 1102,
   "metadata": {},
   "outputs": [],
   "source": [
    "def makeUserTarget(df, user):\n",
    "    aux = []\n",
    "    for _, row in df.iterrows():\n",
    "        if row.our_data == 0:\n",
    "            if(np.floor(row.SessionID/100).astype(int) == user):\n",
    "                aux.append(1)\n",
    "            else:\n",
    "                aux.append(0)\n",
    "        else:\n",
    "            if 'Diego' in row.SessionID and user == 'Diego':\n",
    "                aux.append(1)\n",
    "            elif 'Toto' in row.SessionID and user == 'Toto':\n",
    "                aux.append(1)\n",
    "            elif (('Jo' in row.SessionID) or ('jo' in row.SessionID)) and user == 'Jo':\n",
    "                aux.append(1)\n",
    "            else:\n",
    "                aux.append(0)\n",
    "    df['target'] = aux"
   ]
  },
  {
   "cell_type": "code",
   "execution_count": 1103,
   "metadata": {},
   "outputs": [],
   "source": [
    "def separateIntoTrainAndTest(df, test_sessions = []):\n",
    "    targetSessionIds = list(df[df.target == 1].SessionID.unique())\n",
    "    targetChoosenSession = random.choice(targetSessionIds)\n",
    "    notTargetSessionIds = list(df[df.target == 0].SessionID.unique())\n",
    "    notTargetChoosenSessions = test_sessions\n",
    "    for i in range(2):\n",
    "        notTargetChoosenSession = random.choice(notTargetSessionIds) \n",
    "        notTargetChoosenSessions.append(notTargetChoosenSession)\n",
    "        notTargetSessionIds.remove(notTargetChoosenSession)\n",
    "    df_train = df[(df.SessionID != targetChoosenSession) & (~df.SessionID.isin(notTargetChoosenSessions))]\n",
    "    df_test = df[(df.SessionID == targetChoosenSession) | (df.SessionID.isin(notTargetChoosenSessions))]\n",
    "    \n",
    "    return df_train, df_test"
   ]
  },
  {
   "cell_type": "code",
   "execution_count": 1104,
   "metadata": {},
   "outputs": [],
   "source": [
    "def getOurDataUsers(row):\n",
    "    if 'Diego' in row.SessionID :\n",
    "        return('Diego')\n",
    "    elif 'Toto' in row.SessionID:\n",
    "        return('Toto')\n",
    "    elif ('Jo' in row.SessionID) or ('jo' in row.SessionID):\n",
    "        return('Jo')"
   ]
  },
  {
   "cell_type": "code",
   "execution_count": 1105,
   "metadata": {},
   "outputs": [],
   "source": [
    "file_name = '../aggregated_features'\n",
    "our_data_file_name = '../our_data_aggregated_features'\n",
    "to_drop = []\n",
    "df = pd.read_csv('./' + file_name + '.csv')\n",
    "our_data_df = pd.read_csv('./' + our_data_file_name + '.csv')\n",
    "df['our_data'] = 0\n",
    "our_data_df['our_data'] = 1"
   ]
  },
  {
   "cell_type": "code",
   "execution_count": 1106,
   "metadata": {},
   "outputs": [],
   "source": [
    "users = (np.floor(df.SessionID/100).astype(int)).unique()\n",
    "our_data_users = our_data_df.apply(getOurDataUsers,axis=1)"
   ]
  },
  {
   "cell_type": "code",
   "execution_count": 1107,
   "metadata": {},
   "outputs": [],
   "source": [
    "df = df.append(our_data_df,ignore_index=True)"
   ]
  },
  {
   "cell_type": "code",
   "execution_count": 1110,
   "metadata": {},
   "outputs": [
    {
     "data": {
      "text/html": [
       "<div>\n",
       "<style scoped>\n",
       "    .dataframe tbody tr th:only-of-type {\n",
       "        vertical-align: middle;\n",
       "    }\n",
       "\n",
       "    .dataframe tbody tr th {\n",
       "        vertical-align: top;\n",
       "    }\n",
       "\n",
       "    .dataframe thead th {\n",
       "        text-align: right;\n",
       "    }\n",
       "</style>\n",
       "<table border=\"1\" class=\"dataframe\">\n",
       "  <thead>\n",
       "    <tr style=\"text-align: right;\">\n",
       "      <th></th>\n",
       "      <th>0</th>\n",
       "      <th>1</th>\n",
       "      <th>2</th>\n",
       "      <th>3</th>\n",
       "      <th>4</th>\n",
       "    </tr>\n",
       "  </thead>\n",
       "  <tbody>\n",
       "    <tr>\n",
       "      <th>Acc_X_mean</th>\n",
       "      <td>-0.098425</td>\n",
       "      <td>-0.260413</td>\n",
       "      <td>-0.470253</td>\n",
       "      <td>-0.400509</td>\n",
       "      <td>-0.281103</td>\n",
       "    </tr>\n",
       "    <tr>\n",
       "      <th>Acc_X_std</th>\n",
       "      <td>0.205794</td>\n",
       "      <td>0.213283</td>\n",
       "      <td>0.344431</td>\n",
       "      <td>0.446145</td>\n",
       "      <td>0.267981</td>\n",
       "    </tr>\n",
       "    <tr>\n",
       "      <th>Acc_Y_mean</th>\n",
       "      <td>7.59366</td>\n",
       "      <td>7.78017</td>\n",
       "      <td>7.90233</td>\n",
       "      <td>7.92856</td>\n",
       "      <td>8.26282</td>\n",
       "    </tr>\n",
       "    <tr>\n",
       "      <th>Acc_Y_std</th>\n",
       "      <td>0.273463</td>\n",
       "      <td>0.124979</td>\n",
       "      <td>0.201373</td>\n",
       "      <td>0.165316</td>\n",
       "      <td>0.205305</td>\n",
       "    </tr>\n",
       "    <tr>\n",
       "      <th>Acc_Z_mean</th>\n",
       "      <td>5.4353</td>\n",
       "      <td>5.21084</td>\n",
       "      <td>5.0256</td>\n",
       "      <td>5.01316</td>\n",
       "      <td>4.53329</td>\n",
       "    </tr>\n",
       "    <tr>\n",
       "      <th>Acc_Z_std</th>\n",
       "      <td>0.416557</td>\n",
       "      <td>0.477423</td>\n",
       "      <td>0.609417</td>\n",
       "      <td>0.394647</td>\n",
       "      <td>0.404194</td>\n",
       "    </tr>\n",
       "    <tr>\n",
       "      <th>Contact_size_mean</th>\n",
       "      <td>NaN</td>\n",
       "      <td>NaN</td>\n",
       "      <td>NaN</td>\n",
       "      <td>NaN</td>\n",
       "      <td>NaN</td>\n",
       "    </tr>\n",
       "    <tr>\n",
       "      <th>Contact_size_std</th>\n",
       "      <td>NaN</td>\n",
       "      <td>NaN</td>\n",
       "      <td>NaN</td>\n",
       "      <td>NaN</td>\n",
       "      <td>NaN</td>\n",
       "    </tr>\n",
       "    <tr>\n",
       "      <th>Deltas_0_mean</th>\n",
       "      <td>232</td>\n",
       "      <td>233.5</td>\n",
       "      <td>203.2</td>\n",
       "      <td>262</td>\n",
       "      <td>249</td>\n",
       "    </tr>\n",
       "    <tr>\n",
       "      <th>Deltas_0_median</th>\n",
       "      <td>232</td>\n",
       "      <td>236.5</td>\n",
       "      <td>218</td>\n",
       "      <td>262</td>\n",
       "      <td>249</td>\n",
       "    </tr>\n",
       "    <tr>\n",
       "      <th>Deltas_0_std</th>\n",
       "      <td>NaN</td>\n",
       "      <td>9.46925</td>\n",
       "      <td>36.5062</td>\n",
       "      <td>NaN</td>\n",
       "      <td>NaN</td>\n",
       "    </tr>\n",
       "    <tr>\n",
       "      <th>Deltas_1_mean</th>\n",
       "      <td>4295</td>\n",
       "      <td>889.75</td>\n",
       "      <td>680.2</td>\n",
       "      <td>2039</td>\n",
       "      <td>4393.5</td>\n",
       "    </tr>\n",
       "    <tr>\n",
       "      <th>Deltas_1_median</th>\n",
       "      <td>4295</td>\n",
       "      <td>744</td>\n",
       "      <td>710</td>\n",
       "      <td>2039</td>\n",
       "      <td>4393.5</td>\n",
       "    </tr>\n",
       "    <tr>\n",
       "      <th>Deltas_1_std</th>\n",
       "      <td>NaN</td>\n",
       "      <td>803.815</td>\n",
       "      <td>472.303</td>\n",
       "      <td>NaN</td>\n",
       "      <td>5955.96</td>\n",
       "    </tr>\n",
       "    <tr>\n",
       "      <th>Gyr_X_mean</th>\n",
       "      <td>-0.0061313</td>\n",
       "      <td>-0.00310869</td>\n",
       "      <td>0.00393941</td>\n",
       "      <td>-0.00133252</td>\n",
       "      <td>0.00795713</td>\n",
       "    </tr>\n",
       "    <tr>\n",
       "      <th>Gyr_X_std</th>\n",
       "      <td>0.0831512</td>\n",
       "      <td>0.0703751</td>\n",
       "      <td>0.0879155</td>\n",
       "      <td>0.0626243</td>\n",
       "      <td>0.087155</td>\n",
       "    </tr>\n",
       "    <tr>\n",
       "      <th>Gyr_Y_mean</th>\n",
       "      <td>-0.0242277</td>\n",
       "      <td>-0.0262733</td>\n",
       "      <td>-0.0177298</td>\n",
       "      <td>-0.00804775</td>\n",
       "      <td>-0.0342353</td>\n",
       "    </tr>\n",
       "    <tr>\n",
       "      <th>Gyr_Y_std</th>\n",
       "      <td>0.0853881</td>\n",
       "      <td>0.106772</td>\n",
       "      <td>0.11495</td>\n",
       "      <td>0.103878</td>\n",
       "      <td>0.0853688</td>\n",
       "    </tr>\n",
       "    <tr>\n",
       "      <th>Gyr_Z_mean</th>\n",
       "      <td>-0.0220597</td>\n",
       "      <td>-0.0202025</td>\n",
       "      <td>-0.0242908</td>\n",
       "      <td>-0.0113512</td>\n",
       "      <td>-0.0295634</td>\n",
       "    </tr>\n",
       "    <tr>\n",
       "      <th>Gyr_Z_std</th>\n",
       "      <td>0.0236691</td>\n",
       "      <td>0.0330195</td>\n",
       "      <td>0.0384152</td>\n",
       "      <td>0.128514</td>\n",
       "      <td>0.0577983</td>\n",
       "    </tr>\n",
       "    <tr>\n",
       "      <th>Mag_X_mean</th>\n",
       "      <td>-15.468</td>\n",
       "      <td>-14.9149</td>\n",
       "      <td>-14.4465</td>\n",
       "      <td>-14.3083</td>\n",
       "      <td>-14.7646</td>\n",
       "    </tr>\n",
       "    <tr>\n",
       "      <th>Mag_X_std</th>\n",
       "      <td>0.568727</td>\n",
       "      <td>0.387237</td>\n",
       "      <td>0.721882</td>\n",
       "      <td>0.302085</td>\n",
       "      <td>0.452768</td>\n",
       "    </tr>\n",
       "    <tr>\n",
       "      <th>Mag_Y_mean</th>\n",
       "      <td>15.9549</td>\n",
       "      <td>15.396</td>\n",
       "      <td>14.9897</td>\n",
       "      <td>14.9016</td>\n",
       "      <td>13.6163</td>\n",
       "    </tr>\n",
       "    <tr>\n",
       "      <th>Mag_Y_std</th>\n",
       "      <td>0.96989</td>\n",
       "      <td>0.15127</td>\n",
       "      <td>0.542853</td>\n",
       "      <td>0.276222</td>\n",
       "      <td>0.642676</td>\n",
       "    </tr>\n",
       "    <tr>\n",
       "      <th>Mag_Z_mean</th>\n",
       "      <td>-26.5601</td>\n",
       "      <td>-26.273</td>\n",
       "      <td>-25.8507</td>\n",
       "      <td>-25.7635</td>\n",
       "      <td>-24.702</td>\n",
       "    </tr>\n",
       "    <tr>\n",
       "      <th>Mag_Z_std</th>\n",
       "      <td>0.46613</td>\n",
       "      <td>0.136085</td>\n",
       "      <td>0.497988</td>\n",
       "      <td>0.290543</td>\n",
       "      <td>0.531643</td>\n",
       "    </tr>\n",
       "    <tr>\n",
       "      <th>Press_count</th>\n",
       "      <td>3</td>\n",
       "      <td>8</td>\n",
       "      <td>10</td>\n",
       "      <td>2</td>\n",
       "      <td>3</td>\n",
       "    </tr>\n",
       "    <tr>\n",
       "      <th>Pressure_mean</th>\n",
       "      <td>NaN</td>\n",
       "      <td>NaN</td>\n",
       "      <td>NaN</td>\n",
       "      <td>NaN</td>\n",
       "      <td>NaN</td>\n",
       "    </tr>\n",
       "    <tr>\n",
       "      <th>Pressure_std</th>\n",
       "      <td>NaN</td>\n",
       "      <td>NaN</td>\n",
       "      <td>NaN</td>\n",
       "      <td>NaN</td>\n",
       "      <td>NaN</td>\n",
       "    </tr>\n",
       "    <tr>\n",
       "      <th>SessionID</th>\n",
       "      <td>10066902</td>\n",
       "      <td>10066902</td>\n",
       "      <td>10066902</td>\n",
       "      <td>10066902</td>\n",
       "      <td>10066902</td>\n",
       "    </tr>\n",
       "    <tr>\n",
       "      <th>WindowNumber</th>\n",
       "      <td>0</td>\n",
       "      <td>1</td>\n",
       "      <td>2</td>\n",
       "      <td>3</td>\n",
       "      <td>4</td>\n",
       "    </tr>\n",
       "    <tr>\n",
       "      <th>our_data</th>\n",
       "      <td>0</td>\n",
       "      <td>0</td>\n",
       "      <td>0</td>\n",
       "      <td>0</td>\n",
       "      <td>0</td>\n",
       "    </tr>\n",
       "  </tbody>\n",
       "</table>\n",
       "</div>"
      ],
      "text/plain": [
       "                           0           1           2           3           4\n",
       "Acc_X_mean         -0.098425   -0.260413   -0.470253   -0.400509   -0.281103\n",
       "Acc_X_std           0.205794    0.213283    0.344431    0.446145    0.267981\n",
       "Acc_Y_mean           7.59366     7.78017     7.90233     7.92856     8.26282\n",
       "Acc_Y_std           0.273463    0.124979    0.201373    0.165316    0.205305\n",
       "Acc_Z_mean            5.4353     5.21084      5.0256     5.01316     4.53329\n",
       "Acc_Z_std           0.416557    0.477423    0.609417    0.394647    0.404194\n",
       "Contact_size_mean        NaN         NaN         NaN         NaN         NaN\n",
       "Contact_size_std         NaN         NaN         NaN         NaN         NaN\n",
       "Deltas_0_mean            232       233.5       203.2         262         249\n",
       "Deltas_0_median          232       236.5         218         262         249\n",
       "Deltas_0_std             NaN     9.46925     36.5062         NaN         NaN\n",
       "Deltas_1_mean           4295      889.75       680.2        2039      4393.5\n",
       "Deltas_1_median         4295         744         710        2039      4393.5\n",
       "Deltas_1_std             NaN     803.815     472.303         NaN     5955.96\n",
       "Gyr_X_mean        -0.0061313 -0.00310869  0.00393941 -0.00133252  0.00795713\n",
       "Gyr_X_std          0.0831512   0.0703751   0.0879155   0.0626243    0.087155\n",
       "Gyr_Y_mean        -0.0242277  -0.0262733  -0.0177298 -0.00804775  -0.0342353\n",
       "Gyr_Y_std          0.0853881    0.106772     0.11495    0.103878   0.0853688\n",
       "Gyr_Z_mean        -0.0220597  -0.0202025  -0.0242908  -0.0113512  -0.0295634\n",
       "Gyr_Z_std          0.0236691   0.0330195   0.0384152    0.128514   0.0577983\n",
       "Mag_X_mean           -15.468    -14.9149    -14.4465    -14.3083    -14.7646\n",
       "Mag_X_std           0.568727    0.387237    0.721882    0.302085    0.452768\n",
       "Mag_Y_mean           15.9549      15.396     14.9897     14.9016     13.6163\n",
       "Mag_Y_std            0.96989     0.15127    0.542853    0.276222    0.642676\n",
       "Mag_Z_mean          -26.5601     -26.273    -25.8507    -25.7635     -24.702\n",
       "Mag_Z_std            0.46613    0.136085    0.497988    0.290543    0.531643\n",
       "Press_count                3           8          10           2           3\n",
       "Pressure_mean            NaN         NaN         NaN         NaN         NaN\n",
       "Pressure_std             NaN         NaN         NaN         NaN         NaN\n",
       "SessionID           10066902    10066902    10066902    10066902    10066902\n",
       "WindowNumber               0           1           2           3           4\n",
       "our_data                   0           0           0           0           0"
      ]
     },
     "execution_count": 1110,
     "metadata": {},
     "output_type": "execute_result"
    }
   ],
   "source": [
    "df.head(5).T"
   ]
  },
  {
   "cell_type": "code",
   "execution_count": 1084,
   "metadata": {},
   "outputs": [],
   "source": [
    "df = df[df.our_data != 0]"
   ]
  },
  {
   "cell_type": "code",
   "execution_count": 1085,
   "metadata": {},
   "outputs": [],
   "source": [
    "#user = random.choice(users)\n",
    "user = 'Toto'\n",
    "makeUserTarget(df, user)"
   ]
  },
  {
   "cell_type": "code",
   "execution_count": 1086,
   "metadata": {},
   "outputs": [],
   "source": [
    "#to_drop =  ['our_data','Contact_size_mean','Contact_size_std'] \n",
    "to_drop =  ['our_data','Mag_Z_mean','Mag_X_mean','Mag_Y_mean','Mag_Y_std','Mag_Z_std','Mag_X_std']"
   ]
  },
  {
   "cell_type": "code",
   "execution_count": 1087,
   "metadata": {},
   "outputs": [],
   "source": [
    "clf = xgb.XGBClassifier(n_estimators=90, max_depth=9, random_state=31, colsample_bytree=0.6, colsample_bylevel=0.5, learning_rate=0.11, subsample=0.9)\n",
    "#clf = RandomForestClassifier()"
   ]
  },
  {
   "cell_type": "code",
   "execution_count": 1088,
   "metadata": {},
   "outputs": [],
   "source": [
    "df_train, df_test = separateIntoTrainAndTest(df)"
   ]
  },
  {
   "cell_type": "code",
   "execution_count": 1089,
   "metadata": {},
   "outputs": [],
   "source": [
    "df_train = df_train.set_index([\"SessionID\", 'WindowNumber']).drop(to_drop, axis=1)\n",
    "df_test = df_test.set_index([\"SessionID\", 'WindowNumber']).drop(to_drop, axis=1)"
   ]
  },
  {
   "cell_type": "code",
   "execution_count": 1090,
   "metadata": {},
   "outputs": [],
   "source": [
    "x_train, y_train = df_train.drop(\"target\", axis=1), df_train[\"target\"]"
   ]
  },
  {
   "cell_type": "code",
   "execution_count": 1091,
   "metadata": {},
   "outputs": [
    {
     "data": {
      "text/plain": [
       "XGBClassifier(base_score=0.5, booster='gbtree', colsample_bylevel=0.5,\n",
       "       colsample_bytree=0.6, gamma=0, learning_rate=0.11, max_delta_step=0,\n",
       "       max_depth=9, min_child_weight=1, missing=None, n_estimators=90,\n",
       "       n_jobs=1, nthread=None, objective='binary:logistic',\n",
       "       random_state=31, reg_alpha=0, reg_lambda=1, scale_pos_weight=1,\n",
       "       seed=None, silent=True, subsample=0.9)"
      ]
     },
     "execution_count": 1091,
     "metadata": {},
     "output_type": "execute_result"
    }
   ],
   "source": [
    "clf.fit(x_train, y_train)"
   ]
  },
  {
   "cell_type": "code",
   "execution_count": 1092,
   "metadata": {},
   "outputs": [],
   "source": [
    "i_pred_proba = clf.predict_proba(x_train)"
   ]
  },
  {
   "cell_type": "code",
   "execution_count": 1093,
   "metadata": {},
   "outputs": [
    {
     "name": "stdout",
     "output_type": "stream",
     "text": [
      "1.0\n"
     ]
    }
   ],
   "source": [
    "auc = roc_auc_score(y_train, i_pred_proba[:, 1])\n",
    "print(auc)"
   ]
  },
  {
   "cell_type": "code",
   "execution_count": 1094,
   "metadata": {},
   "outputs": [],
   "source": [
    "x_test, y_test = df_test.drop(\"target\", axis=1), df_test[\"target\"]"
   ]
  },
  {
   "cell_type": "code",
   "execution_count": 1095,
   "metadata": {},
   "outputs": [],
   "source": [
    "predict = clf.predict_proba(x_test)"
   ]
  },
  {
   "cell_type": "code",
   "execution_count": 1096,
   "metadata": {},
   "outputs": [],
   "source": [
    "df_predict = pd.DataFrame(clf.predict_proba(x_test)[:, 1], columns=[\"prob\"], index=x_test.index)"
   ]
  },
  {
   "cell_type": "code",
   "execution_count": 1097,
   "metadata": {},
   "outputs": [],
   "source": [
    "df_socorro = df_predict.merge(df_test[['target']], right_index=True, left_index=True)"
   ]
  },
  {
   "cell_type": "code",
   "execution_count": 1098,
   "metadata": {},
   "outputs": [
    {
     "data": {
      "text/html": [
       "<div>\n",
       "<style scoped>\n",
       "    .dataframe tbody tr th:only-of-type {\n",
       "        vertical-align: middle;\n",
       "    }\n",
       "\n",
       "    .dataframe tbody tr th {\n",
       "        vertical-align: top;\n",
       "    }\n",
       "\n",
       "    .dataframe thead th {\n",
       "        text-align: right;\n",
       "    }\n",
       "</style>\n",
       "<table border=\"1\" class=\"dataframe\">\n",
       "  <thead>\n",
       "    <tr style=\"text-align: right;\">\n",
       "      <th></th>\n",
       "      <th>WindowNumber</th>\n",
       "      <th>prob</th>\n",
       "      <th>target</th>\n",
       "    </tr>\n",
       "    <tr>\n",
       "      <th>SessionID</th>\n",
       "      <th></th>\n",
       "      <th></th>\n",
       "      <th></th>\n",
       "    </tr>\n",
       "  </thead>\n",
       "  <tbody>\n",
       "    <tr>\n",
       "      <th>jo2</th>\n",
       "      <td>21.5</td>\n",
       "      <td>0.030480</td>\n",
       "      <td>0</td>\n",
       "    </tr>\n",
       "    <tr>\n",
       "      <th>jo3</th>\n",
       "      <td>19.5</td>\n",
       "      <td>0.054659</td>\n",
       "      <td>0</td>\n",
       "    </tr>\n",
       "  </tbody>\n",
       "</table>\n",
       "</div>"
      ],
      "text/plain": [
       "           WindowNumber      prob  target\n",
       "SessionID                                \n",
       "jo2                21.5  0.030480       0\n",
       "jo3                19.5  0.054659       0"
      ]
     },
     "execution_count": 1098,
     "metadata": {},
     "output_type": "execute_result"
    }
   ],
   "source": [
    "df_socorro[df_socorro.target == 0].reset_index().groupby('SessionID').mean()"
   ]
  },
  {
   "cell_type": "code",
   "execution_count": 1099,
   "metadata": {},
   "outputs": [
    {
     "data": {
      "text/html": [
       "<div>\n",
       "<style scoped>\n",
       "    .dataframe tbody tr th:only-of-type {\n",
       "        vertical-align: middle;\n",
       "    }\n",
       "\n",
       "    .dataframe tbody tr th {\n",
       "        vertical-align: top;\n",
       "    }\n",
       "\n",
       "    .dataframe thead th {\n",
       "        text-align: right;\n",
       "    }\n",
       "</style>\n",
       "<table border=\"1\" class=\"dataframe\">\n",
       "  <thead>\n",
       "    <tr style=\"text-align: right;\">\n",
       "      <th></th>\n",
       "      <th>WindowNumber</th>\n",
       "      <th>prob</th>\n",
       "      <th>target</th>\n",
       "    </tr>\n",
       "    <tr>\n",
       "      <th>SessionID</th>\n",
       "      <th></th>\n",
       "      <th></th>\n",
       "      <th></th>\n",
       "    </tr>\n",
       "  </thead>\n",
       "  <tbody>\n",
       "    <tr>\n",
       "      <th>Toto1</th>\n",
       "      <td>8.0</td>\n",
       "      <td>0.99216</td>\n",
       "      <td>1</td>\n",
       "    </tr>\n",
       "  </tbody>\n",
       "</table>\n",
       "</div>"
      ],
      "text/plain": [
       "           WindowNumber     prob  target\n",
       "SessionID                               \n",
       "Toto1               8.0  0.99216       1"
      ]
     },
     "execution_count": 1099,
     "metadata": {},
     "output_type": "execute_result"
    }
   ],
   "source": [
    "df_socorro[df_socorro.target == 1].reset_index().groupby('SessionID').mean()"
   ]
  },
  {
   "cell_type": "code",
   "execution_count": 1100,
   "metadata": {},
   "outputs": [
    {
     "data": {
      "text/plain": [
       "<matplotlib.figure.Figure at 0x1a126d6128>"
      ]
     },
     "execution_count": 1100,
     "metadata": {},
     "output_type": "execute_result"
    },
    {
     "data": {
      "image/png": "[encoded data removed]",
      "text/plain": [
       "<matplotlib.figure.Figure at 0x1a12d51f98>"
      ]
     },
     "metadata": {},
     "output_type": "display_data"
    },
    {
     "data": {
      "text/plain": [
       "<matplotlib.figure.Figure at 0x1a126d6128>"
      ]
     },
     "metadata": {},
     "output_type": "display_data"
    }
   ],
   "source": [
    "xgb.plot_importance(clf)\n",
    "plt.figure()"
   ]
  },
  {
   "cell_type": "code",
   "execution_count": 1075,
   "metadata": {},
   "outputs": [
    {
     "data": {
      "text/plain": [
       "array(['Diego02', 'Toto9', 'jo4'], dtype=object)"
      ]
     },
     "execution_count": 1075,
     "metadata": {},
     "output_type": "execute_result"
    }
   ],
   "source": [
    "df_test.reset_index().SessionID.unique()"
   ]
  },
  {
   "cell_type": "code",
   "execution_count": 1076,
   "metadata": {},
   "outputs": [
    {
     "data": {
      "text/plain": [
       "array(['Andres1', 'Diego01', 'Diego03', 'Diego04', 'Jo1', 'Toto1', 'Toto2',\n",
       "       'Toto5', 'Toto6', 'Toto7', 'Toto8', 'jo2', 'jo3'], dtype=object)"
      ]
     },
     "execution_count": 1076,
     "metadata": {},
     "output_type": "execute_result"
    }
   ],
   "source": [
    "df_train.reset_index().SessionID.unique()"
   ]
  },
  {
   "cell_type": "code",
   "execution_count": null,
   "metadata": {},
   "outputs": [],
   "source": []
  }
 ],
 "metadata": {
  "kernelspec": {
   "display_name": "Python 3",
   "language": "python",
   "name": "python3"
  },
  "language_info": {
   "codemirror_mode": {
    "name": "ipython",
    "version": 3
   },
   "file_extension": ".py",
   "mimetype": "text/x-python",
   "name": "python",
   "nbconvert_exporter": "python",
   "pygments_lexer": "ipython3",
   "version": "3.6.4"
  }
 },
 "nbformat": 4,
 "nbformat_minor": 2
}
