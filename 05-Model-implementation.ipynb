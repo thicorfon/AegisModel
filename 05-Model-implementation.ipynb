{
 "cells": [
  {
   "cell_type": "code",
   "execution_count": 1246,
   "metadata": {},
   "outputs": [],
   "source": [
    "import numpy as np\n",
    "import pandas as pd\n",
    "import xgboost as xgb\n",
    "import sklearn\n",
    "from sklearn.preprocessing import LabelEncoder\n",
    "from sklearn.preprocessing.imputation import Imputer\n",
    "from sklearn.ensemble import RandomForestClassifier\n",
    "from sklearn.metrics import f1_score, roc_auc_score\n",
    "from sklearn.cross_validation import StratifiedKFold\n",
    "from sklearn.preprocessing import LabelEncoder\n",
    "from sklearn.preprocessing import OneHotEncoder\n",
    "import os\n",
    "import random\n",
    "import matplotlib.pyplot as plt"
   ]
  },
  {
   "cell_type": "code",
   "execution_count": 1247,
   "metadata": {},
   "outputs": [],
   "source": [
    "def makeUserTarget(df, user):\n",
    "    aux = []\n",
    "    for _, row in df.iterrows():\n",
    "        if row.our_data == 0:\n",
    "            if(np.floor(row.SessionID/100).astype(int) == user):\n",
    "                aux.append(1)\n",
    "            else:\n",
    "                aux.append(0)\n",
    "        else:\n",
    "            if 'Diego' in row.SessionID and user == 'Diego':\n",
    "                aux.append(1)\n",
    "            elif 'Toto' in row.SessionID and user == 'Toto':\n",
    "                aux.append(1)\n",
    "            elif (('Jo' in row.SessionID) or ('jo' in row.SessionID)) and user == 'Jo':\n",
    "                aux.append(1)\n",
    "            else:\n",
    "                aux.append(0)\n",
    "    df['target'] = aux"
   ]
  },
  {
   "cell_type": "code",
   "execution_count": 1248,
   "metadata": {},
   "outputs": [],
   "source": [
    "def separateIntoTrainAndTest(df, test_sessions = []):\n",
    "    targetSessionIds = list(df[df.target == 1].SessionID.unique())\n",
    "    targetChoosenSession = random.choice(targetSessionIds)\n",
    "    notTargetSessionIds = list(df[df.target == 0].SessionID.unique())\n",
    "    notTargetChoosenSessions = test_sessions\n",
    "    for i in range(10):\n",
    "        notTargetChoosenSession = random.choice(notTargetSessionIds) \n",
    "        notTargetChoosenSessions.append(notTargetChoosenSession)\n",
    "        notTargetSessionIds.remove(notTargetChoosenSession)\n",
    "    df_train = df[(df.SessionID != targetChoosenSession) & (~df.SessionID.isin(notTargetChoosenSessions))]\n",
    "    df_test = df[(df.SessionID == targetChoosenSession) | (df.SessionID.isin(notTargetChoosenSessions))]\n",
    "    \n",
    "    return df_train, df_test"
   ]
  },
  {
   "cell_type": "code",
   "execution_count": 1249,
   "metadata": {},
   "outputs": [],
   "source": [
    "def getOurDataUsers(row):\n",
    "    if 'Diego' in row.SessionID :\n",
    "        return('Diego')\n",
    "    elif 'Toto' in row.SessionID:\n",
    "        return('Toto')\n",
    "    elif ('Jo' in row.SessionID) or ('jo' in row.SessionID):\n",
    "        return('Jo')"
   ]
  },
  {
   "cell_type": "code",
   "execution_count": 1250,
   "metadata": {},
   "outputs": [],
   "source": [
    "file_name = 'aggregated_features'\n",
    "our_data_file_name = 'our_data_aggregated_features'\n",
    "to_drop = []\n",
    "df = pd.read_csv('./' + file_name + '.csv')\n",
    "our_data_df = pd.read_csv('./' + our_data_file_name + '.csv')\n",
    "df['our_data'] = 0\n",
    "our_data_df['our_data'] = 1"
   ]
  },
  {
   "cell_type": "code",
   "execution_count": 1251,
   "metadata": {},
   "outputs": [],
   "source": [
    "users = (np.floor(df.SessionID/100).astype(int)).unique()\n",
    "our_data_users = our_data_df.apply(getOurDataUsers,axis=1)"
   ]
  },
  {
   "cell_type": "code",
   "execution_count": 1252,
   "metadata": {},
   "outputs": [],
   "source": [
    "df = df.append(our_data_df,ignore_index=True)"
   ]
  },
  {
   "cell_type": "code",
   "execution_count": 1253,
   "metadata": {},
   "outputs": [],
   "source": [
    "#df = df[df.our_data != 0]"
   ]
  },
  {
   "cell_type": "code",
   "execution_count": 1254,
   "metadata": {},
   "outputs": [],
   "source": [
    "sessionsToDrop = ['Diego01','Diego02','Diego03']"
   ]
  },
  {
   "cell_type": "code",
   "execution_count": 1255,
   "metadata": {},
   "outputs": [],
   "source": [
    "df = df[~df.SessionID.isin(sessionsToDrop)]"
   ]
  },
  {
   "cell_type": "code",
   "execution_count": 1256,
   "metadata": {},
   "outputs": [],
   "source": [
    "#user = random.choice(users)\n",
    "user = 'Toto'\n",
    "makeUserTarget(df, user)"
   ]
  },
  {
   "cell_type": "code",
   "execution_count": 1257,
   "metadata": {},
   "outputs": [],
   "source": [
    "#to_drop =  ['our_data','Contact_size_mean','Contact_size_std'] \n",
    "to_drop =  ['our_data','Mag_Z_mean','Mag_X_mean','Mag_Y_mean','Mag_Y_std','Mag_Z_std','Mag_X_std']"
   ]
  },
  {
   "cell_type": "code",
   "execution_count": 1258,
   "metadata": {},
   "outputs": [],
   "source": [
    "clf = xgb.XGBClassifier(n_estimators=90, max_depth=9, random_state=31, colsample_bytree=0.6, colsample_bylevel=0.5, learning_rate=0.11, subsample=0.9)\n",
    "#clf = RandomForestClassifier()"
   ]
  },
  {
   "cell_type": "code",
   "execution_count": 1259,
   "metadata": {},
   "outputs": [],
   "source": [
    "df_train, df_test = separateIntoTrainAndTest(df,test_sessions=['Andres1','jo3'])"
   ]
  },
  {
   "cell_type": "code",
   "execution_count": 1260,
   "metadata": {},
   "outputs": [],
   "source": [
    "df_train = df_train.set_index([\"SessionID\", 'WindowNumber']).drop(to_drop, axis=1)\n",
    "df_test = df_test.set_index([\"SessionID\", 'WindowNumber']).drop(to_drop, axis=1)"
   ]
  },
  {
   "cell_type": "code",
   "execution_count": 1261,
   "metadata": {},
   "outputs": [],
   "source": [
    "x_train, y_train = df_train.drop(\"target\", axis=1), df_train[\"target\"]"
   ]
  },
  {
   "cell_type": "code",
   "execution_count": 1262,
   "metadata": {},
   "outputs": [
    {
     "data": {
      "text/plain": [
       "XGBClassifier(base_score=0.5, booster='gbtree', colsample_bylevel=0.5,\n",
       "       colsample_bytree=0.6, gamma=0, learning_rate=0.11, max_delta_step=0,\n",
       "       max_depth=9, min_child_weight=1, missing=None, n_estimators=90,\n",
       "       n_jobs=1, nthread=None, objective='binary:logistic',\n",
       "       random_state=31, reg_alpha=0, reg_lambda=1, scale_pos_weight=1,\n",
       "       seed=None, silent=True, subsample=0.9)"
      ]
     },
     "execution_count": 1262,
     "metadata": {},
     "output_type": "execute_result"
    }
   ],
   "source": [
    "clf.fit(x_train, y_train)"
   ]
  },
  {
   "cell_type": "code",
   "execution_count": 1263,
   "metadata": {},
   "outputs": [],
   "source": [
    "x_test, y_test = df_test.drop(\"target\", axis=1), df_test[\"target\"]"
   ]
  },
  {
   "cell_type": "code",
   "execution_count": 1264,
   "metadata": {},
   "outputs": [],
   "source": [
    "predict = clf.predict_proba(x_test)"
   ]
  },
  {
   "cell_type": "code",
   "execution_count": 1265,
   "metadata": {},
   "outputs": [],
   "source": [
    "df_predict = pd.DataFrame(clf.predict_proba(x_test)[:, 1], columns=[\"prob\"], index=x_test.index)"
   ]
  },
  {
   "cell_type": "code",
   "execution_count": 1266,
   "metadata": {},
   "outputs": [],
   "source": [
    "df_socorro = df_predict.merge(df_test[['target']], right_index=True, left_index=True)"
   ]
  },
  {
   "cell_type": "code",
   "execution_count": 1267,
   "metadata": {},
   "outputs": [
    {
     "data": {
      "text/html": [
       "<div>\n",
       "<style scoped>\n",
       "    .dataframe tbody tr th:only-of-type {\n",
       "        vertical-align: middle;\n",
       "    }\n",
       "\n",
       "    .dataframe tbody tr th {\n",
       "        vertical-align: top;\n",
       "    }\n",
       "\n",
       "    .dataframe thead th {\n",
       "        text-align: right;\n",
       "    }\n",
       "</style>\n",
       "<table border=\"1\" class=\"dataframe\">\n",
       "  <thead>\n",
       "    <tr style=\"text-align: right;\">\n",
       "      <th></th>\n",
       "      <th>WindowNumber</th>\n",
       "      <th>prob</th>\n",
       "      <th>target</th>\n",
       "    </tr>\n",
       "    <tr>\n",
       "      <th>SessionID</th>\n",
       "      <th></th>\n",
       "      <th></th>\n",
       "      <th></th>\n",
       "    </tr>\n",
       "  </thead>\n",
       "  <tbody>\n",
       "    <tr>\n",
       "      <th>25648718</th>\n",
       "      <td>130.931034</td>\n",
       "      <td>0.000034</td>\n",
       "      <td>0</td>\n",
       "    </tr>\n",
       "    <tr>\n",
       "      <th>39512923</th>\n",
       "      <td>51.912621</td>\n",
       "      <td>0.000035</td>\n",
       "      <td>0</td>\n",
       "    </tr>\n",
       "    <tr>\n",
       "      <th>39669716</th>\n",
       "      <td>58.780702</td>\n",
       "      <td>0.000034</td>\n",
       "      <td>0</td>\n",
       "    </tr>\n",
       "    <tr>\n",
       "      <th>50197316</th>\n",
       "      <td>64.482759</td>\n",
       "      <td>0.000035</td>\n",
       "      <td>0</td>\n",
       "    </tr>\n",
       "    <tr>\n",
       "      <th>52779603</th>\n",
       "      <td>71.954887</td>\n",
       "      <td>0.000035</td>\n",
       "      <td>0</td>\n",
       "    </tr>\n",
       "    <tr>\n",
       "      <th>57852612</th>\n",
       "      <td>48.989011</td>\n",
       "      <td>0.000035</td>\n",
       "      <td>0</td>\n",
       "    </tr>\n",
       "    <tr>\n",
       "      <th>62285210</th>\n",
       "      <td>36.408451</td>\n",
       "      <td>0.000034</td>\n",
       "      <td>0</td>\n",
       "    </tr>\n",
       "    <tr>\n",
       "      <th>85630211</th>\n",
       "      <td>77.867133</td>\n",
       "      <td>0.000035</td>\n",
       "      <td>0</td>\n",
       "    </tr>\n",
       "    <tr>\n",
       "      <th>87601111</th>\n",
       "      <td>121.836364</td>\n",
       "      <td>0.000035</td>\n",
       "      <td>0</td>\n",
       "    </tr>\n",
       "    <tr>\n",
       "      <th>96215915</th>\n",
       "      <td>41.926829</td>\n",
       "      <td>0.000035</td>\n",
       "      <td>0</td>\n",
       "    </tr>\n",
       "    <tr>\n",
       "      <th>Andres1</th>\n",
       "      <td>28.466667</td>\n",
       "      <td>0.145374</td>\n",
       "      <td>0</td>\n",
       "    </tr>\n",
       "    <tr>\n",
       "      <th>jo3</th>\n",
       "      <td>19.500000</td>\n",
       "      <td>0.017009</td>\n",
       "      <td>0</td>\n",
       "    </tr>\n",
       "  </tbody>\n",
       "</table>\n",
       "</div>"
      ],
      "text/plain": [
       "           WindowNumber      prob  target\n",
       "SessionID                                \n",
       "25648718     130.931034  0.000034       0\n",
       "39512923      51.912621  0.000035       0\n",
       "39669716      58.780702  0.000034       0\n",
       "50197316      64.482759  0.000035       0\n",
       "52779603      71.954887  0.000035       0\n",
       "57852612      48.989011  0.000035       0\n",
       "62285210      36.408451  0.000034       0\n",
       "85630211      77.867133  0.000035       0\n",
       "87601111     121.836364  0.000035       0\n",
       "96215915      41.926829  0.000035       0\n",
       "Andres1       28.466667  0.145374       0\n",
       "jo3           19.500000  0.017009       0"
      ]
     },
     "execution_count": 1267,
     "metadata": {},
     "output_type": "execute_result"
    }
   ],
   "source": [
    "df_socorro[df_socorro.target == 0].reset_index().groupby('SessionID').mean()"
   ]
  },
  {
   "cell_type": "code",
   "execution_count": 1268,
   "metadata": {},
   "outputs": [
    {
     "data": {
      "text/html": [
       "<div>\n",
       "<style scoped>\n",
       "    .dataframe tbody tr th:only-of-type {\n",
       "        vertical-align: middle;\n",
       "    }\n",
       "\n",
       "    .dataframe tbody tr th {\n",
       "        vertical-align: top;\n",
       "    }\n",
       "\n",
       "    .dataframe thead th {\n",
       "        text-align: right;\n",
       "    }\n",
       "</style>\n",
       "<table border=\"1\" class=\"dataframe\">\n",
       "  <thead>\n",
       "    <tr style=\"text-align: right;\">\n",
       "      <th></th>\n",
       "      <th>WindowNumber</th>\n",
       "      <th>prob</th>\n",
       "      <th>target</th>\n",
       "    </tr>\n",
       "    <tr>\n",
       "      <th>SessionID</th>\n",
       "      <th></th>\n",
       "      <th></th>\n",
       "      <th></th>\n",
       "    </tr>\n",
       "  </thead>\n",
       "  <tbody>\n",
       "    <tr>\n",
       "      <th>Toto9</th>\n",
       "      <td>15.5</td>\n",
       "      <td>0.968761</td>\n",
       "      <td>1</td>\n",
       "    </tr>\n",
       "  </tbody>\n",
       "</table>\n",
       "</div>"
      ],
      "text/plain": [
       "           WindowNumber      prob  target\n",
       "SessionID                                \n",
       "Toto9              15.5  0.968761       1"
      ]
     },
     "execution_count": 1268,
     "metadata": {},
     "output_type": "execute_result"
    }
   ],
   "source": [
    "df_socorro[df_socorro.target == 1].reset_index().groupby('SessionID').mean()"
   ]
  },
  {
   "cell_type": "code",
   "execution_count": 1269,
   "metadata": {},
   "outputs": [
    {
     "data": {
      "text/plain": [
       "<matplotlib.figure.Figure at 0x1a0ad1ab00>"
      ]
     },
     "execution_count": 1269,
     "metadata": {},
     "output_type": "execute_result"
    },
    {
     "data": {
      "image/png": "[encoded data removed]",
      "text/plain": [
       "<matplotlib.figure.Figure at 0x1a0c33cf60>"
      ]
     },
     "metadata": {},
     "output_type": "display_data"
    },
    {
     "data": {
      "text/plain": [
       "<matplotlib.figure.Figure at 0x1a0ad1ab00>"
      ]
     },
     "metadata": {},
     "output_type": "display_data"
    }
   ],
   "source": [
    "xgb.plot_importance(clf)\n",
    "plt.figure()"
   ]
  },
  {
   "cell_type": "code",
   "execution_count": 1270,
   "metadata": {},
   "outputs": [],
   "source": [
    "i_pred_proba = clf.predict_proba(x_test)\n",
    "auc = roc_auc_score(y_test, i_pred_proba[:, 1])"
   ]
  },
  {
   "cell_type": "code",
   "execution_count": 1271,
   "metadata": {},
   "outputs": [
    {
     "name": "stdout",
     "output_type": "stream",
     "text": [
      "0.999859234234\n"
     ]
    }
   ],
   "source": [
    "print(auc)"
   ]
  },
  {
   "cell_type": "code",
   "execution_count": null,
   "metadata": {},
   "outputs": [],
   "source": []
  }
 ],
 "metadata": {
  "kernelspec": {
   "display_name": "Python 3",
   "language": "python",
   "name": "python3"
  },
  "language_info": {
   "codemirror_mode": {
    "name": "ipython",
    "version": 3
   },
   "file_extension": ".py",
   "mimetype": "text/x-python",
   "name": "python",
   "nbconvert_exporter": "python",
   "pygments_lexer": "ipython3",
   "version": "3.6.4"
  }
 },
 "nbformat": 4,
 "nbformat_minor": 2
}
