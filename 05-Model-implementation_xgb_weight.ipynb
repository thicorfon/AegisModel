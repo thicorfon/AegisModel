{
 "cells": [
  {
   "cell_type": "code",
   "execution_count": 579,
   "metadata": {},
   "outputs": [],
   "source": [
    "import numpy as np\n",
    "import pandas as pd\n",
    "import xgboost as xgb\n",
    "import sklearn\n",
    "from sklearn.preprocessing import LabelEncoder\n",
    "from sklearn.preprocessing.imputation import Imputer\n",
    "from sklearn.ensemble import RandomForestClassifier\n",
    "from sklearn.metrics import f1_score, roc_auc_score\n",
    "# from sklearn.cross_validation import StratifiedKFold\n",
    "from sklearn.preprocessing import LabelEncoder\n",
    "from sklearn.preprocessing import OneHotEncoder\n",
    "import os\n",
    "import random\n",
    "import matplotlib.pyplot as plt"
   ]
  },
  {
   "cell_type": "code",
   "execution_count": 580,
   "metadata": {},
   "outputs": [],
   "source": [
    "def makeUserTarget(df, user):\n",
    "    aux = []\n",
    "    for _, row in df.iterrows():\n",
    "        if row.our_data == 0:\n",
    "            if(np.floor(row.SessionID/100).astype(int) == user):\n",
    "                aux.append(1)\n",
    "            else:\n",
    "                aux.append(0)\n",
    "        else:\n",
    "            if 'Diego' in row.SessionID and user == 'Diego':\n",
    "                aux.append(1)\n",
    "            elif 'Toto' in row.SessionID and user == 'Toto':\n",
    "                aux.append(1)\n",
    "            elif (('Jo' in row.SessionID) or ('jo' in row.SessionID)) and user == 'Jo':\n",
    "                aux.append(1)\n",
    "            else:\n",
    "                aux.append(0)\n",
    "    df['target'] = aux"
   ]
  },
  {
   "cell_type": "code",
   "execution_count": 581,
   "metadata": {},
   "outputs": [],
   "source": [
    "def separateIntoTrainAndTest(df, test_sessions = [],randomn = 10):\n",
    "    targetSessionIds = list(df[df.target == 1].SessionID.unique())\n",
    "    targetChoosenSession = random.choice(targetSessionIds)\n",
    "    notTargetSessionIds = list(df[df.target == 0].SessionID.unique())\n",
    "    notTargetChoosenSessions = test_sessions\n",
    "    for i in range(randomn):\n",
    "        notTargetChoosenSession = random.choice(notTargetSessionIds) \n",
    "        notTargetChoosenSessions.append(notTargetChoosenSession)\n",
    "        notTargetSessionIds.remove(notTargetChoosenSession)\n",
    "    df_train = df[(df.SessionID != targetChoosenSession) & (~df.SessionID.isin(notTargetChoosenSessions))]\n",
    "    df_test = df[(df.SessionID == targetChoosenSession) | (df.SessionID.isin(notTargetChoosenSessions))]\n",
    "    \n",
    "    return df_train, df_test"
   ]
  },
  {
   "cell_type": "code",
   "execution_count": 582,
   "metadata": {},
   "outputs": [],
   "source": [
    "def getOurDataUsers(row):\n",
    "    if 'Diego' in row.SessionID :\n",
    "        return('Diego')\n",
    "    elif 'Toto' in row.SessionID:\n",
    "        return('Toto')\n",
    "    elif ('Jo' in row.SessionID) or ('jo' in row.SessionID):\n",
    "        return('Jo')"
   ]
  },
  {
   "cell_type": "code",
   "execution_count": 583,
   "metadata": {},
   "outputs": [],
   "source": [
    "#file_name = 'aggregated_features'\n",
    "file_name = '10secs_aggregated_features'\n",
    "our_data_file_name = 'our_data_aggregated_features'\n",
    "to_drop = []\n",
    "df = pd.read_csv('./' + file_name + '.csv')\n",
    "our_data_df = pd.read_csv('./' + our_data_file_name + '.csv')\n",
    "df['our_data'] = 0\n",
    "our_data_df['our_data'] = 1"
   ]
  },
  {
   "cell_type": "code",
   "execution_count": 584,
   "metadata": {},
   "outputs": [],
   "source": [
    "users = (np.floor(df.SessionID/100).astype(int)).unique()\n",
    "our_data_users = our_data_df.apply(getOurDataUsers,axis=1)"
   ]
  },
  {
   "cell_type": "code",
   "execution_count": 585,
   "metadata": {},
   "outputs": [],
   "source": [
    "df = df.append(our_data_df,ignore_index=True)"
   ]
  },
  {
   "cell_type": "code",
   "execution_count": 586,
   "metadata": {},
   "outputs": [],
   "source": [
    "#df = df[df.our_data != 0]"
   ]
  },
  {
   "cell_type": "code",
   "execution_count": 587,
   "metadata": {},
   "outputs": [],
   "source": [
    "sessionsToDrop = ['Diego01']"
   ]
  },
  {
   "cell_type": "code",
   "execution_count": 588,
   "metadata": {},
   "outputs": [],
   "source": [
    "df = df[~df.SessionID.isin(sessionsToDrop)]"
   ]
  },
  {
   "cell_type": "code",
   "execution_count": 589,
   "metadata": {},
   "outputs": [],
   "source": [
    "#user = random.choice(users)\n",
    "user = 'Toto'\n",
    "makeUserTarget(df, user)"
   ]
  },
  {
   "cell_type": "code",
   "execution_count": 590,
   "metadata": {},
   "outputs": [],
   "source": [
    "#to_drop =  ['our_data','Contact_size_mean','Contact_size_std'] \n",
    "#to_drop =  ['our_data','Mag_Z_mean','Mag_X_mean','Mag_Y_mean','Mag_Y_std','Mag_Z_std','Mag_X_std']\n",
    "to_drop =  ['our_data','Mag_Z_mean','Mag_X_mean','Mag_Y_mean','Mag_Y_std','Mag_Z_std','Mag_X_std','Contact_size_mean','Pressure_mean','Pressure_std','Contact_size_std']\n",
    "#to_drop =  ['our_data','Mag_Z_mean','Mag_X_mean','Mag_Y_mean','Mag_Y_std','Mag_Z_std','Mag_X_std','Pressure_mean','Pressure_std']"
   ]
  },
  {
   "cell_type": "code",
   "execution_count": 591,
   "metadata": {},
   "outputs": [],
   "source": [
    "df_train, df_test = separateIntoTrainAndTest(df,test_sessions=['oscar1','Pedro1','Carlos1','Andres1'],randomn=1)"
   ]
  },
  {
   "cell_type": "code",
   "execution_count": 592,
   "metadata": {},
   "outputs": [],
   "source": [
    "df_train = df_train.set_index([\"SessionID\", 'WindowNumber']).drop(to_drop, axis=1)\n",
    "df_test = df_test.set_index([\"SessionID\", 'WindowNumber']).drop(to_drop, axis=1)"
   ]
  },
  {
   "cell_type": "code",
   "execution_count": 593,
   "metadata": {},
   "outputs": [],
   "source": [
    "x_train, y_train = df_train.drop(\"target\", axis=1), df_train[\"target\"]"
   ]
  },
  {
   "cell_type": "code",
   "execution_count": 594,
   "metadata": {},
   "outputs": [
    {
     "data": {
      "text/plain": [
       "225"
      ]
     },
     "execution_count": 594,
     "metadata": {},
     "output_type": "execute_result"
    }
   ],
   "source": [
    "y_train.to_frame('target').groupby('target').size()[1]"
   ]
  },
  {
   "cell_type": "code",
   "execution_count": 595,
   "metadata": {},
   "outputs": [],
   "source": [
    "negative_positive = y_train.to_frame('target').groupby('target').size()\n",
    "sum_negative = negative_positive[0]\n",
    "sum_positive = negative_positive[1]\n",
    "scale_pos_weight = sum_negative/sum_positive"
   ]
  },
  {
   "cell_type": "code",
   "execution_count": 596,
   "metadata": {},
   "outputs": [],
   "source": [
    "clf = xgb.XGBClassifier(n_estimators=90, max_depth=9, random_state=31, colsample_bytree=0.6, colsample_bylevel=0.5, learning_rate=0.11, subsample=0.9, scale_pos_weight=scale_pos_weight)\n",
    "clf2 = xgb.XGBClassifier(n_estimators=90, max_depth=9, random_state=31, colsample_bytree=0.6, colsample_bylevel=0.5, learning_rate=0.11, subsample=0.9)\n",
    "#clf = RandomForestClassifier()"
   ]
  },
  {
   "cell_type": "code",
   "execution_count": 597,
   "metadata": {
    "scrolled": true
   },
   "outputs": [
    {
     "data": {
      "text/plain": [
       "XGBClassifier(base_score=0.5, booster='gbtree', colsample_bylevel=0.5,\n",
       "       colsample_bytree=0.6, gamma=0, learning_rate=0.11, max_delta_step=0,\n",
       "       max_depth=9, min_child_weight=1, missing=None, n_estimators=90,\n",
       "       n_jobs=1, nthread=None, objective='binary:logistic',\n",
       "       random_state=31, reg_alpha=0, reg_lambda=1, scale_pos_weight=1,\n",
       "       seed=None, silent=True, subsample=0.9)"
      ]
     },
     "execution_count": 597,
     "metadata": {},
     "output_type": "execute_result"
    }
   ],
   "source": [
    "clf.fit(x_train, y_train)\n",
    "clf2.fit(x_train, y_train)"
   ]
  },
  {
   "cell_type": "code",
   "execution_count": 598,
   "metadata": {},
   "outputs": [],
   "source": [
    "x_test, y_test = df_test.drop(\"target\", axis=1), df_test[\"target\"]"
   ]
  },
  {
   "cell_type": "code",
   "execution_count": 599,
   "metadata": {},
   "outputs": [
    {
     "data": {
      "text/plain": [
       "array([[9.99957383e-01, 4.26011720e-05],\n",
       "       [9.99953032e-01, 4.69938241e-05],\n",
       "       [9.99920368e-01, 7.96155218e-05],\n",
       "       [9.99943078e-01, 5.69362455e-05],\n",
       "       [9.99951601e-01, 4.84268567e-05],\n",
       "       [9.99870300e-01, 1.29675464e-04],\n",
       "       [9.99948204e-01, 5.17752524e-05],\n",
       "       [9.99951780e-01, 4.82014584e-05],\n",
       "       [9.99938250e-01, 6.17546903e-05],\n",
       "       [9.99948144e-01, 5.18836459e-05],\n",
       "       [9.99949157e-01, 5.08570847e-05],\n",
       "       [9.99957383e-01, 4.26011720e-05],\n",
       "       [9.99947011e-01, 5.30112957e-05],\n",
       "       [9.99917448e-01, 8.25633470e-05],\n",
       "       [9.99937296e-01, 6.27050540e-05],\n",
       "       [9.99948323e-01, 5.16533946e-05],\n",
       "       [9.99951839e-01, 4.81358693e-05],\n",
       "       [9.99956727e-01, 4.32570341e-05],\n",
       "       [9.99956846e-01, 4.31260960e-05],\n",
       "       [9.99960482e-01, 3.95274583e-05],\n",
       "       [9.99945939e-01, 5.40400943e-05],\n",
       "       [9.99946177e-01, 5.38229033e-05],\n",
       "       [9.99960482e-01, 3.95274583e-05],\n",
       "       [9.99957383e-01, 4.26011720e-05],\n",
       "       [9.99949813e-01, 5.01874492e-05],\n",
       "       [9.99953449e-01, 4.65472694e-05],\n",
       "       [9.99951720e-01, 4.82627765e-05],\n",
       "       [9.99947965e-01, 5.20363610e-05],\n",
       "       [9.99949813e-01, 5.01874492e-05],\n",
       "       [9.99956846e-01, 4.31253939e-05],\n",
       "       [9.99940753e-01, 5.92562756e-05],\n",
       "       [9.99947250e-01, 5.27446900e-05],\n",
       "       [9.99957323e-01, 4.26989463e-05],\n",
       "       [9.99951839e-01, 4.81822499e-05],\n",
       "       [9.99960482e-01, 3.95274583e-05],\n",
       "       [9.99959707e-01, 4.03029226e-05],\n",
       "       [9.99953389e-01, 4.66126585e-05],\n",
       "       [9.99912620e-01, 8.73855097e-05],\n",
       "       [9.99936402e-01, 6.35961987e-05],\n",
       "       [9.99957383e-01, 4.26011720e-05],\n",
       "       [9.99950051e-01, 4.99569105e-05],\n",
       "       [9.99946237e-01, 5.37731867e-05],\n",
       "       [9.99946117e-01, 5.38584827e-05],\n",
       "       [9.99957561e-01, 4.24541540e-05],\n",
       "       [9.99947608e-01, 5.23748422e-05],\n",
       "       [9.99907374e-01, 9.26413704e-05],\n",
       "       [9.99940276e-01, 5.97358121e-05],\n",
       "       [9.99930739e-01, 6.92425674e-05],\n",
       "       [9.99953330e-01, 4.66658967e-05],\n",
       "       [9.99945164e-01, 5.48250318e-05],\n",
       "       [9.99960482e-01, 3.95274583e-05],\n",
       "       [9.99954998e-01, 4.49717591e-05],\n",
       "       [9.99951541e-01, 4.84880366e-05],\n",
       "       [9.99946177e-01, 5.38390232e-05],\n",
       "       [9.99943972e-01, 5.60126537e-05],\n",
       "       [9.99944687e-01, 5.52987622e-05],\n",
       "       [9.76191640e-01, 2.38083676e-02],\n",
       "       [2.31500685e-01, 7.68499315e-01],\n",
       "       [9.83544409e-01, 1.64556075e-02],\n",
       "       [9.76131380e-01, 2.38686409e-02],\n",
       "       [7.49975801e-01, 2.50024170e-01],\n",
       "       [9.44944084e-01, 5.50558977e-02],\n",
       "       [8.81655216e-02, 9.11834478e-01],\n",
       "       [5.27479291e-01, 4.72520739e-01],\n",
       "       [1.20836496e-02, 9.87916350e-01],\n",
       "       [7.26652145e-03, 9.92733479e-01],\n",
       "       [1.91030502e-02, 9.80896950e-01],\n",
       "       [5.73451877e-01, 4.26548094e-01],\n",
       "       [5.37387192e-01, 4.62612808e-01],\n",
       "       [5.61184585e-01, 4.38815415e-01],\n",
       "       [2.99048185e-01, 7.00951815e-01],\n",
       "       [8.09055567e-03, 9.91909444e-01],\n",
       "       [7.41355181e-01, 2.58644849e-01],\n",
       "       [2.83928633e-01, 7.16071367e-01],\n",
       "       [5.03714323e-01, 4.96285707e-01],\n",
       "       [5.34087420e-03, 9.94659126e-01],\n",
       "       [2.19593346e-01, 7.80406654e-01],\n",
       "       [5.43180108e-02, 9.45681989e-01],\n",
       "       [9.33985472e-01, 6.60145283e-02],\n",
       "       [4.66958404e-01, 5.33041596e-01],\n",
       "       [3.08528543e-02, 9.69147146e-01],\n",
       "       [2.72805691e-02, 9.72719431e-01],\n",
       "       [7.06011295e-01, 2.93988675e-01],\n",
       "       [4.83569503e-02, 9.51643050e-01],\n",
       "       [7.28783131e-01, 2.71216840e-01],\n",
       "       [4.75699008e-01, 5.24300992e-01],\n",
       "       [7.71284640e-01, 2.28715360e-01],\n",
       "       [9.32710767e-01, 6.72892407e-02],\n",
       "       [2.75213122e-02, 9.72478688e-01],\n",
       "       [2.78566003e-01, 7.21433997e-01],\n",
       "       [1.15172267e-02, 9.88482773e-01],\n",
       "       [5.94478250e-01, 4.05521721e-01],\n",
       "       [8.79245996e-03, 9.91207540e-01],\n",
       "       [8.81826878e-03, 9.91181731e-01],\n",
       "       [7.47263432e-03, 9.92527366e-01],\n",
       "       [4.42732692e-01, 5.57267308e-01],\n",
       "       [2.05558538e-03, 9.97944415e-01],\n",
       "       [4.50438261e-02, 9.54956174e-01],\n",
       "       [5.92995286e-01, 4.07004714e-01],\n",
       "       [4.56386805e-03, 9.95436132e-01],\n",
       "       [7.94297993e-01, 2.05701992e-01],\n",
       "       [9.97764885e-01, 2.23514391e-03],\n",
       "       [9.79018211e-02, 9.02098179e-01],\n",
       "       [9.97984231e-01, 2.01577763e-03],\n",
       "       [9.87183332e-01, 1.28166527e-02],\n",
       "       [5.76137900e-01, 4.23862129e-01],\n",
       "       [9.98776078e-01, 1.22391211e-03],\n",
       "       [7.59251058e-01, 2.40748942e-01],\n",
       "       [9.93051946e-01, 6.94803149e-03],\n",
       "       [5.78124166e-01, 4.21875834e-01],\n",
       "       [5.68141043e-01, 4.31858957e-01],\n",
       "       [9.97973800e-01, 2.02619797e-03],\n",
       "       [9.95625436e-01, 4.37458744e-03],\n",
       "       [8.54742527e-02, 9.14525747e-01],\n",
       "       [7.38732636e-01, 2.61267364e-01],\n",
       "       [5.60084760e-01, 4.39915240e-01],\n",
       "       [8.35813642e-01, 1.64186373e-01],\n",
       "       [9.86490548e-01, 1.35094812e-02],\n",
       "       [9.66685057e-01, 3.33149508e-02],\n",
       "       [9.98288453e-01, 1.71153795e-03],\n",
       "       [9.86101210e-01, 1.38988039e-02],\n",
       "       [9.29689944e-01, 7.03100637e-02],\n",
       "       [9.93303478e-01, 6.69652596e-03],\n",
       "       [9.65751231e-01, 3.42487507e-02],\n",
       "       [3.36980760e-01, 6.63019240e-01],\n",
       "       [9.90284085e-01, 9.71590169e-03],\n",
       "       [9.99547839e-01, 4.52153123e-04],\n",
       "       [9.79216635e-01, 2.07833517e-02],\n",
       "       [9.69968140e-01, 3.00318375e-02],\n",
       "       [9.79906976e-01, 2.00930331e-02],\n",
       "       [9.91175532e-01, 8.82448722e-03],\n",
       "       [9.84486938e-01, 1.55130541e-02],\n",
       "       [3.96234751e-01, 6.03765249e-01],\n",
       "       [9.96565700e-01, 3.43429577e-03],\n",
       "       [8.65448594e-01, 1.34551436e-01],\n",
       "       [9.49520230e-01, 5.04797846e-02],\n",
       "       [9.96614873e-01, 3.38510517e-03],\n",
       "       [5.49250007e-01, 4.50749964e-01],\n",
       "       [9.99509096e-01, 4.90910490e-04],\n",
       "       [9.59069788e-01, 4.09302115e-02],\n",
       "       [9.93889213e-01, 6.11077435e-03],\n",
       "       [9.94700432e-01, 5.29957702e-03],\n",
       "       [9.75064456e-01, 2.49355286e-02],\n",
       "       [9.96993899e-01, 3.00608156e-03],\n",
       "       [9.97022271e-01, 2.97775213e-03],\n",
       "       [9.99103010e-01, 8.96982092e-04],\n",
       "       [8.79218876e-01, 1.20781116e-01],\n",
       "       [2.22209275e-01, 7.77790725e-01],\n",
       "       [7.58499205e-01, 2.41500810e-01],\n",
       "       [5.84056735e-01, 4.15943265e-01],\n",
       "       [8.72865319e-01, 1.27134711e-01],\n",
       "       [9.96352434e-01, 3.64757725e-03],\n",
       "       [9.87266660e-01, 1.27333375e-02],\n",
       "       [9.98605371e-01, 1.39462214e-03],\n",
       "       [9.96019363e-01, 3.98062682e-03],\n",
       "       [9.68015194e-01, 3.19847949e-02],\n",
       "       [9.35018837e-01, 6.49811402e-02],\n",
       "       [1.32130384e-01, 8.67869616e-01],\n",
       "       [3.68739963e-02, 9.63126004e-01],\n",
       "       [2.07216740e-02, 9.79278326e-01],\n",
       "       [4.07758355e-02, 9.59224164e-01],\n",
       "       [8.93722713e-01, 1.06277287e-01],\n",
       "       [9.91732776e-01, 8.26720241e-03],\n",
       "       [1.99967623e-03, 9.98000324e-01],\n",
       "       [3.21034789e-02, 9.67896521e-01],\n",
       "       [8.74819875e-01, 1.25180155e-01],\n",
       "       [1.54551268e-02, 9.84544873e-01],\n",
       "       [4.21653807e-01, 5.78346193e-01],\n",
       "       [4.39598799e-01, 5.60401201e-01],\n",
       "       [6.16019964e-03, 9.93839800e-01],\n",
       "       [5.99312782e-03, 9.94006872e-01],\n",
       "       [8.04759741e-01, 1.95240244e-01],\n",
       "       [6.29250824e-01, 3.70749176e-01],\n",
       "       [4.73015130e-01, 5.26984870e-01],\n",
       "       [3.01145256e-01, 6.98854744e-01],\n",
       "       [8.95327330e-03, 9.91046727e-01],\n",
       "       [2.71248817e-03, 9.97287512e-01],\n",
       "       [4.82900202e-01, 5.17099798e-01],\n",
       "       [9.91532862e-01, 8.46715365e-03],\n",
       "       [9.99072790e-01, 9.27233428e-04],\n",
       "       [1.95858479e-02, 9.80414152e-01],\n",
       "       [9.39192176e-02, 9.06080782e-01],\n",
       "       [7.76484013e-02, 9.22351599e-01],\n",
       "       [9.92687941e-01, 7.31206499e-03],\n",
       "       [9.90552425e-01, 9.44760442e-03],\n",
       "       [9.89442289e-01, 1.05577186e-02],\n",
       "       [2.19091833e-01, 7.80908167e-01],\n",
       "       [1.25095248e-02, 9.87490475e-01],\n",
       "       [9.59150493e-01, 4.08494882e-02],\n",
       "       [9.90698755e-01, 9.30123869e-03],\n",
       "       [8.91457200e-01, 1.08542800e-01],\n",
       "       [9.69521344e-01, 3.04786451e-02],\n",
       "       [9.91159797e-01, 8.84023309e-03],\n",
       "       [9.74565148e-01, 2.54348367e-02],\n",
       "       [9.17657018e-02, 9.08234298e-01],\n",
       "       [9.96550560e-01, 3.44941486e-03],\n",
       "       [9.61712956e-01, 3.82870622e-02],\n",
       "       [2.41506696e-01, 7.58493304e-01],\n",
       "       [5.03858447e-01, 4.96141523e-01],\n",
       "       [9.95820224e-01, 4.17977013e-03],\n",
       "       [9.94949758e-01, 5.05022286e-03],\n",
       "       [9.62462485e-01, 3.75375263e-02],\n",
       "       [1.48303986e-01, 8.51696014e-01],\n",
       "       [9.40504074e-01, 5.94959557e-02],\n",
       "       [7.29641676e-01, 2.70358294e-01],\n",
       "       [8.57927084e-01, 1.42072931e-01],\n",
       "       [9.91286993e-01, 8.71299487e-03],\n",
       "       [7.01720119e-01, 2.98279911e-01],\n",
       "       [9.95183349e-01, 4.81666205e-03],\n",
       "       [3.10802102e-01, 6.89197898e-01],\n",
       "       [9.87497628e-01, 1.25023741e-02],\n",
       "       [9.69945192e-01, 3.00548133e-02],\n",
       "       [9.98551309e-01, 1.44871674e-03],\n",
       "       [9.85785067e-01, 1.42149124e-02],\n",
       "       [9.90823030e-01, 9.17695090e-03],\n",
       "       [9.88477051e-01, 1.15229450e-02],\n",
       "       [1.27457023e-01, 8.72542977e-01],\n",
       "       [2.16695666e-02, 9.78330433e-01],\n",
       "       [1.93423033e-03, 9.98065770e-01],\n",
       "       [9.52779412e-01, 4.72205840e-02],\n",
       "       [3.32363307e-01, 6.67636693e-01],\n",
       "       [7.62079597e-01, 2.37920374e-01],\n",
       "       [5.54590583e-01, 4.45409447e-01],\n",
       "       [3.66774201e-02, 9.63322580e-01],\n",
       "       [1.34170055e-03, 9.98658299e-01],\n",
       "       [9.93620098e-01, 6.37989072e-03],\n",
       "       [9.22435522e-03, 9.90775645e-01],\n",
       "       [4.67431545e-03, 9.95325685e-01],\n",
       "       [1.24943256e-03, 9.98750567e-01],\n",
       "       [3.89379263e-03, 9.96106207e-01],\n",
       "       [2.48311043e-01, 7.51688957e-01],\n",
       "       [9.87014532e-01, 1.29854484e-02],\n",
       "       [1.39647722e-03, 9.98603523e-01],\n",
       "       [1.83850527e-03, 9.98161495e-01],\n",
       "       [4.04567182e-01, 5.95432818e-01],\n",
       "       [1.11373365e-01, 8.88626635e-01],\n",
       "       [3.72617424e-01, 6.27382576e-01],\n",
       "       [2.50035524e-03, 9.97499645e-01],\n",
       "       [1.22554898e-02, 9.87744510e-01],\n",
       "       [5.03635406e-03, 9.94963646e-01],\n",
       "       [1.38936937e-01, 8.61063063e-01],\n",
       "       [2.14514136e-02, 9.78548586e-01],\n",
       "       [1.14189982e-02, 9.88581002e-01],\n",
       "       [9.93337691e-01, 6.66230079e-03],\n",
       "       [9.80639637e-01, 1.93603896e-02],\n",
       "       [9.12387013e-01, 8.76129568e-02],\n",
       "       [6.37999773e-02, 9.36200023e-01],\n",
       "       [9.85189080e-01, 1.48109347e-02],\n",
       "       [9.88737106e-01, 1.12628713e-02],\n",
       "       [9.92687583e-01, 7.31239049e-03],\n",
       "       [9.84256804e-01, 1.57432035e-02],\n",
       "       [9.80482280e-01, 1.95177160e-02],\n",
       "       [9.47592854e-01, 5.24071343e-02],\n",
       "       [8.85850132e-01, 1.14149854e-01],\n",
       "       [9.80666995e-01, 1.93329901e-02],\n",
       "       [9.96912539e-01, 3.08743841e-03]], dtype=float32)"
      ]
     },
     "execution_count": 599,
     "metadata": {},
     "output_type": "execute_result"
    }
   ],
   "source": [
    "predict = clf.predict_proba(x_test)\n",
    "predict2 = clf2.predict_proba(x_test)\n",
    "predict"
   ]
  },
  {
   "cell_type": "code",
   "execution_count": 600,
   "metadata": {},
   "outputs": [
    {
     "data": {
      "text/plain": [
       "array([0, 0, 0, 0, 0, 0, 0, 0, 0, 0, 0, 0, 0, 0, 0, 0, 0, 0, 0, 0, 0, 0,\n",
       "       0, 0, 0, 0, 0, 0, 0, 0, 0, 0, 0, 0, 0, 0, 0, 0, 0, 0, 0, 0, 0, 0,\n",
       "       0, 0, 0, 0, 0, 0, 0, 0, 0, 0, 0, 0, 0, 0, 0, 0, 0, 0, 1, 0, 1, 1,\n",
       "       1, 0, 0, 1, 1, 1, 0, 0, 0, 1, 0, 1, 0, 0, 1, 1, 0, 1, 0, 0, 0, 0,\n",
       "       1, 1, 1, 0, 1, 1, 1, 0, 1, 1, 0, 1, 0, 0, 1, 0, 0, 0, 0, 0, 0, 0,\n",
       "       0, 0, 0, 1, 0, 0, 0, 0, 0, 0, 0, 0, 0, 0, 0, 0, 0, 0, 0, 0, 0, 0,\n",
       "       0, 0, 0, 0, 0, 0, 0, 0, 0, 0, 0, 0, 0, 0, 0, 0, 0, 0, 0, 0, 0, 0,\n",
       "       0, 0, 0, 0, 1, 1, 0, 0, 0, 1, 1, 0, 1, 1, 0, 1, 1, 0, 0, 0, 0, 1,\n",
       "       1, 0, 0, 0, 1, 1, 1, 0, 0, 0, 0, 1, 0, 0, 0, 0, 0, 0, 0, 0, 0, 1,\n",
       "       0, 0, 0, 0, 0, 0, 0, 0, 0, 0, 0, 1, 0, 0, 0, 0, 0, 0, 0, 0, 1, 0,\n",
       "       0, 0, 0, 0, 1, 0, 0, 1, 1, 0, 0, 0, 1, 0, 0, 0, 0, 1, 0, 1, 0, 0,\n",
       "       1, 0, 0, 0, 1, 0, 0, 0, 0, 0, 0, 0, 0, 0])"
      ]
     },
     "execution_count": 600,
     "metadata": {},
     "output_type": "execute_result"
    }
   ],
   "source": [
    "clf.predict(x_test)\n",
    "clf2.predict(x_test)"
   ]
  },
  {
   "cell_type": "code",
   "execution_count": 601,
   "metadata": {},
   "outputs": [],
   "source": [
    "df_predict = pd.DataFrame(clf.predict_proba(x_test)[:, 1], columns=[\"prob\"], index=x_test.index)\n",
    "df_predict2 = pd.DataFrame(clf2.predict_proba(x_test)[:, 1], columns=[\"prob\"], index=x_test.index)"
   ]
  },
  {
   "cell_type": "code",
   "execution_count": 602,
   "metadata": {},
   "outputs": [],
   "source": [
    "df_socorro = df_predict.merge(df_test[['target']], right_index=True, left_index=True)\n",
    "df_socorro2 = df_predict2.merge(df_test[['target']], right_index=True, left_index=True)"
   ]
  },
  {
   "cell_type": "code",
   "execution_count": 603,
   "metadata": {},
   "outputs": [
    {
     "data": {
      "text/html": [
       "<div>\n",
       "<style scoped>\n",
       "    .dataframe tbody tr th:only-of-type {\n",
       "        vertical-align: middle;\n",
       "    }\n",
       "\n",
       "    .dataframe tbody tr th {\n",
       "        vertical-align: top;\n",
       "    }\n",
       "\n",
       "    .dataframe thead th {\n",
       "        text-align: right;\n",
       "    }\n",
       "</style>\n",
       "<table border=\"1\" class=\"dataframe\">\n",
       "  <thead>\n",
       "    <tr style=\"text-align: right;\">\n",
       "      <th></th>\n",
       "      <th>WindowNumber</th>\n",
       "      <th>prob</th>\n",
       "      <th>target</th>\n",
       "    </tr>\n",
       "    <tr>\n",
       "      <th>SessionID</th>\n",
       "      <th></th>\n",
       "      <th></th>\n",
       "      <th></th>\n",
       "    </tr>\n",
       "  </thead>\n",
       "  <tbody>\n",
       "    <tr>\n",
       "      <th>78589919</th>\n",
       "      <td>29.071429</td>\n",
       "      <td>0.000054</td>\n",
       "      <td>0</td>\n",
       "    </tr>\n",
       "    <tr>\n",
       "      <th>Andres1</th>\n",
       "      <td>28.466667</td>\n",
       "      <td>0.616787</td>\n",
       "      <td>0</td>\n",
       "    </tr>\n",
       "    <tr>\n",
       "      <th>Carlos1</th>\n",
       "      <td>37.265306</td>\n",
       "      <td>0.164513</td>\n",
       "      <td>0</td>\n",
       "    </tr>\n",
       "    <tr>\n",
       "      <th>Pedro1</th>\n",
       "      <td>37.061538</td>\n",
       "      <td>0.370926</td>\n",
       "      <td>0</td>\n",
       "    </tr>\n",
       "    <tr>\n",
       "      <th>oscar1</th>\n",
       "      <td>6.928571</td>\n",
       "      <td>0.164003</td>\n",
       "      <td>0</td>\n",
       "    </tr>\n",
       "  </tbody>\n",
       "</table>\n",
       "</div>"
      ],
      "text/plain": [
       "           WindowNumber      prob  target\n",
       "SessionID                                \n",
       "78589919      29.071429  0.000054       0\n",
       "Andres1       28.466667  0.616787       0\n",
       "Carlos1       37.265306  0.164513       0\n",
       "Pedro1        37.061538  0.370926       0\n",
       "oscar1         6.928571  0.164003       0"
      ]
     },
     "execution_count": 603,
     "metadata": {},
     "output_type": "execute_result"
    }
   ],
   "source": [
    "df_socorro[df_socorro.target == 0].reset_index().groupby('SessionID').mean()\n"
   ]
  },
  {
   "cell_type": "code",
   "execution_count": 604,
   "metadata": {},
   "outputs": [
    {
     "data": {
      "text/html": [
       "<div>\n",
       "<style scoped>\n",
       "    .dataframe tbody tr th:only-of-type {\n",
       "        vertical-align: middle;\n",
       "    }\n",
       "\n",
       "    .dataframe tbody tr th {\n",
       "        vertical-align: top;\n",
       "    }\n",
       "\n",
       "    .dataframe thead th {\n",
       "        text-align: right;\n",
       "    }\n",
       "</style>\n",
       "<table border=\"1\" class=\"dataframe\">\n",
       "  <thead>\n",
       "    <tr style=\"text-align: right;\">\n",
       "      <th></th>\n",
       "      <th>WindowNumber</th>\n",
       "      <th>prob</th>\n",
       "      <th>target</th>\n",
       "    </tr>\n",
       "    <tr>\n",
       "      <th>SessionID</th>\n",
       "      <th></th>\n",
       "      <th></th>\n",
       "      <th></th>\n",
       "    </tr>\n",
       "  </thead>\n",
       "  <tbody>\n",
       "    <tr>\n",
       "      <th>78589919</th>\n",
       "      <td>29.071429</td>\n",
       "      <td>0.000050</td>\n",
       "      <td>0</td>\n",
       "    </tr>\n",
       "    <tr>\n",
       "      <th>Andres1</th>\n",
       "      <td>28.466667</td>\n",
       "      <td>0.447130</td>\n",
       "      <td>0</td>\n",
       "    </tr>\n",
       "    <tr>\n",
       "      <th>Carlos1</th>\n",
       "      <td>37.265306</td>\n",
       "      <td>0.072853</td>\n",
       "      <td>0</td>\n",
       "    </tr>\n",
       "    <tr>\n",
       "      <th>Pedro1</th>\n",
       "      <td>37.061538</td>\n",
       "      <td>0.268080</td>\n",
       "      <td>0</td>\n",
       "    </tr>\n",
       "    <tr>\n",
       "      <th>oscar1</th>\n",
       "      <td>6.928571</td>\n",
       "      <td>0.166176</td>\n",
       "      <td>0</td>\n",
       "    </tr>\n",
       "  </tbody>\n",
       "</table>\n",
       "</div>"
      ],
      "text/plain": [
       "           WindowNumber      prob  target\n",
       "SessionID                                \n",
       "78589919      29.071429  0.000050       0\n",
       "Andres1       28.466667  0.447130       0\n",
       "Carlos1       37.265306  0.072853       0\n",
       "Pedro1        37.061538  0.268080       0\n",
       "oscar1         6.928571  0.166176       0"
      ]
     },
     "execution_count": 604,
     "metadata": {},
     "output_type": "execute_result"
    }
   ],
   "source": [
    "df_socorro2[df_socorro2.target == 0].reset_index().groupby('SessionID').mean()"
   ]
  },
  {
   "cell_type": "code",
   "execution_count": 605,
   "metadata": {},
   "outputs": [
    {
     "data": {
      "text/html": [
       "<div>\n",
       "<style scoped>\n",
       "    .dataframe tbody tr th:only-of-type {\n",
       "        vertical-align: middle;\n",
       "    }\n",
       "\n",
       "    .dataframe tbody tr th {\n",
       "        vertical-align: top;\n",
       "    }\n",
       "\n",
       "    .dataframe thead th {\n",
       "        text-align: right;\n",
       "    }\n",
       "</style>\n",
       "<table border=\"1\" class=\"dataframe\">\n",
       "  <thead>\n",
       "    <tr style=\"text-align: right;\">\n",
       "      <th></th>\n",
       "      <th>WindowNumber</th>\n",
       "      <th>prob</th>\n",
       "      <th>target</th>\n",
       "    </tr>\n",
       "    <tr>\n",
       "      <th>SessionID</th>\n",
       "      <th></th>\n",
       "      <th></th>\n",
       "      <th></th>\n",
       "    </tr>\n",
       "  </thead>\n",
       "  <tbody>\n",
       "    <tr>\n",
       "      <th>Toto7</th>\n",
       "      <td>13.0</td>\n",
       "      <td>0.737062</td>\n",
       "      <td>1</td>\n",
       "    </tr>\n",
       "  </tbody>\n",
       "</table>\n",
       "</div>"
      ],
      "text/plain": [
       "           WindowNumber      prob  target\n",
       "SessionID                                \n",
       "Toto7              13.0  0.737062       1"
      ]
     },
     "execution_count": 605,
     "metadata": {},
     "output_type": "execute_result"
    }
   ],
   "source": [
    "df_socorro[df_socorro.target == 1].reset_index().groupby('SessionID').mean()"
   ]
  },
  {
   "cell_type": "code",
   "execution_count": 606,
   "metadata": {},
   "outputs": [
    {
     "data": {
      "text/html": [
       "<div>\n",
       "<style scoped>\n",
       "    .dataframe tbody tr th:only-of-type {\n",
       "        vertical-align: middle;\n",
       "    }\n",
       "\n",
       "    .dataframe tbody tr th {\n",
       "        vertical-align: top;\n",
       "    }\n",
       "\n",
       "    .dataframe thead th {\n",
       "        text-align: right;\n",
       "    }\n",
       "</style>\n",
       "<table border=\"1\" class=\"dataframe\">\n",
       "  <thead>\n",
       "    <tr style=\"text-align: right;\">\n",
       "      <th></th>\n",
       "      <th>WindowNumber</th>\n",
       "      <th>prob</th>\n",
       "      <th>target</th>\n",
       "    </tr>\n",
       "    <tr>\n",
       "      <th>SessionID</th>\n",
       "      <th></th>\n",
       "      <th></th>\n",
       "      <th></th>\n",
       "    </tr>\n",
       "  </thead>\n",
       "  <tbody>\n",
       "    <tr>\n",
       "      <th>Toto7</th>\n",
       "      <td>13.0</td>\n",
       "      <td>0.320256</td>\n",
       "      <td>1</td>\n",
       "    </tr>\n",
       "  </tbody>\n",
       "</table>\n",
       "</div>"
      ],
      "text/plain": [
       "           WindowNumber      prob  target\n",
       "SessionID                                \n",
       "Toto7              13.0  0.320256       1"
      ]
     },
     "execution_count": 606,
     "metadata": {},
     "output_type": "execute_result"
    }
   ],
   "source": [
    "df_socorro2[df_socorro2.target == 1].reset_index().groupby('SessionID').mean()"
   ]
  },
  {
   "cell_type": "code",
   "execution_count": 607,
   "metadata": {},
   "outputs": [
    {
     "data": {
      "text/plain": [
       "<Figure size 432x288 with 0 Axes>"
      ]
     },
     "execution_count": 607,
     "metadata": {},
     "output_type": "execute_result"
    },
    {
     "data": {
      "image/png": "[encoded data removed]",
      "text/plain": [
       "<Figure size 432x288 with 1 Axes>"
      ]
     },
     "metadata": {
      "needs_background": "light"
     },
     "output_type": "display_data"
    },
    {
     "data": {
      "text/plain": [
       "<Figure size 432x288 with 0 Axes>"
      ]
     },
     "metadata": {},
     "output_type": "display_data"
    }
   ],
   "source": [
    "xgb.plot_importance(clf)\n",
    "plt.figure()"
   ]
  },
  {
   "cell_type": "code",
   "execution_count": 608,
   "metadata": {},
   "outputs": [
    {
     "data": {
      "text/plain": [
       "0.8266213812065341"
      ]
     },
     "execution_count": 608,
     "metadata": {},
     "output_type": "execute_result"
    }
   ],
   "source": [
    "i_pred_proba = clf.predict_proba(x_test)\n",
    "auc = roc_auc_score(y_test, i_pred_proba[:, 1])\n",
    "auc"
   ]
  },
  {
   "cell_type": "code",
   "execution_count": 609,
   "metadata": {},
   "outputs": [
    {
     "data": {
      "text/plain": [
       "0.7100113213650332"
      ]
     },
     "execution_count": 609,
     "metadata": {},
     "output_type": "execute_result"
    }
   ],
   "source": [
    "i_pred_proba2 = clf2.predict_proba(x_test)\n",
    "auc2 = roc_auc_score(y_test, i_pred_proba2[:, 1])\n",
    "auc2"
   ]
  },
  {
   "cell_type": "code",
   "execution_count": null,
   "metadata": {},
   "outputs": [],
   "source": []
  },
  {
   "cell_type": "code",
   "execution_count": null,
   "metadata": {},
   "outputs": [],
   "source": []
  },
  {
   "cell_type": "code",
   "execution_count": null,
   "metadata": {},
   "outputs": [],
   "source": []
  }
 ],
 "metadata": {
  "kernelspec": {
   "display_name": "Python 2",
   "language": "python",
   "name": "python2"
  },
  "language_info": {
   "codemirror_mode": {
    "name": "ipython",
    "version": 2
   },
   "file_extension": ".py",
   "mimetype": "text/x-python",
   "name": "python",
   "nbconvert_exporter": "python",
   "pygments_lexer": "ipython2",
   "version": "2.7.15"
  }
 },
 "nbformat": 4,
 "nbformat_minor": 2
}
