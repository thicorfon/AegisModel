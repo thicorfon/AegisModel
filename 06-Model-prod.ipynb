{
 "cells": [
  {
   "cell_type": "code",
   "execution_count": 54,
   "metadata": {},
   "outputs": [],
   "source": [
    "import numpy as np\n",
    "import pandas as pd\n",
    "import xgboost as xgb\n",
    "import sklearn\n",
    "from sklearn.preprocessing import LabelEncoder\n",
    "from sklearn.preprocessing.imputation import Imputer\n",
    "from sklearn.ensemble import RandomForestClassifier\n",
    "from sklearn.metrics import f1_score, roc_auc_score\n",
    "from sklearn.cross_validation import StratifiedKFold\n",
    "from sklearn.preprocessing import LabelEncoder\n",
    "from sklearn.preprocessing import OneHotEncoder\n",
    "import os\n",
    "import random\n",
    "import matplotlib.pyplot as plt"
   ]
  },
  {
   "cell_type": "code",
   "execution_count": 55,
   "metadata": {},
   "outputs": [],
   "source": [
    "def makeUserTarget(df, user):\n",
    "    aux = []\n",
    "    for _, row in df.iterrows():\n",
    "        if row.our_data == 0:\n",
    "            if(np.floor(row.SessionID/100).astype(int) == user):\n",
    "                aux.append(1)\n",
    "            else:\n",
    "                aux.append(0)\n",
    "        else:\n",
    "            if 'Diego' in row.SessionID and user == 'Diego':\n",
    "                aux.append(1)\n",
    "            elif 'Toto' in row.SessionID and user == 'Toto':\n",
    "                aux.append(1)\n",
    "            elif (('Jo' in row.SessionID) or ('jo' in row.SessionID)) and user == 'Jo':\n",
    "                aux.append(1)\n",
    "            else:\n",
    "                aux.append(0)\n",
    "    df['target'] = aux"
   ]
  },
  {
   "cell_type": "code",
   "execution_count": 56,
   "metadata": {},
   "outputs": [],
   "source": [
    "def separateIntoTrainAndTest(df, test_sessions = []):\n",
    "    targetSessionIds = list(df[df.target == 1].SessionID.unique())\n",
    "    targetChoosenSession = random.choice(targetSessionIds)\n",
    "    notTargetSessionIds = list(df[df.target == 0].SessionID.unique())\n",
    "    notTargetChoosenSessions = test_sessions\n",
    "    for i in range(2):\n",
    "        notTargetChoosenSession = random.choice(notTargetSessionIds) \n",
    "        notTargetChoosenSessions.append(notTargetChoosenSession)\n",
    "        notTargetSessionIds.remove(notTargetChoosenSession)\n",
    "    df_train = df[(df.SessionID != targetChoosenSession) & (~df.SessionID.isin(notTargetChoosenSessions))]\n",
    "    df_test = df[(df.SessionID == targetChoosenSession) | (df.SessionID.isin(notTargetChoosenSessions))]\n",
    "    \n",
    "    return df_train, df_test"
   ]
  },
  {
   "cell_type": "code",
   "execution_count": 57,
   "metadata": {},
   "outputs": [],
   "source": [
    "def getOurDataUsers(row):\n",
    "    if 'Diego' in row.SessionID :\n",
    "        return('Diego')\n",
    "    elif 'Toto' in row.SessionID:\n",
    "        return('Toto')\n",
    "    elif ('Jo' in row.SessionID) or ('jo' in row.SessionID):\n",
    "        return('Jo')"
   ]
  },
  {
   "cell_type": "code",
   "execution_count": 58,
   "metadata": {},
   "outputs": [],
   "source": [
    "file_name = 'aggregated_features'\n",
    "our_data_file_name = 'our_data_aggregated_features'\n",
    "to_drop = []\n",
    "df = pd.read_csv('./' + file_name + '.csv')\n",
    "our_data_df = pd.read_csv('./' + our_data_file_name + '.csv')\n",
    "df['our_data'] = 0\n",
    "our_data_df['our_data'] = 1"
   ]
  },
  {
   "cell_type": "code",
   "execution_count": 59,
   "metadata": {},
   "outputs": [],
   "source": [
    "users = (np.floor(df.SessionID/100).astype(int)).unique()\n",
    "our_data_users = our_data_df.apply(getOurDataUsers,axis=1)"
   ]
  },
  {
   "cell_type": "code",
   "execution_count": 60,
   "metadata": {},
   "outputs": [],
   "source": [
    "df = df.append(our_data_df,ignore_index=True)"
   ]
  },
  {
   "cell_type": "code",
   "execution_count": 61,
   "metadata": {},
   "outputs": [],
   "source": [
    "#df = df[df.our_data != 0]"
   ]
  },
  {
   "cell_type": "code",
   "execution_count": 62,
   "metadata": {},
   "outputs": [],
   "source": [
    "sessionsToDrop = ['Diego01','Diego02','Diego03']"
   ]
  },
  {
   "cell_type": "code",
   "execution_count": 63,
   "metadata": {},
   "outputs": [],
   "source": [
    "df = df[~df.SessionID.isin(sessionsToDrop)]"
   ]
  },
  {
   "cell_type": "code",
   "execution_count": 66,
   "metadata": {},
   "outputs": [],
   "source": [
    "#user = random.choice(users)\n",
    "user = 'Toto'\n",
    "makeUserTarget(df, user)"
   ]
  },
  {
   "cell_type": "code",
   "execution_count": 67,
   "metadata": {},
   "outputs": [],
   "source": [
    "#to_drop =  ['our_data','Contact_size_mean','Contact_size_std'] \n",
    "to_drop =  ['our_data','Mag_Z_mean','Mag_X_mean','Mag_Y_mean','Mag_Y_std','Mag_Z_std','Mag_X_std']"
   ]
  },
  {
   "cell_type": "code",
   "execution_count": 68,
   "metadata": {},
   "outputs": [],
   "source": [
    "clf = xgb.XGBClassifier(n_estimators=90, max_depth=9, random_state=31, colsample_bytree=0.6, colsample_bylevel=0.5, learning_rate=0.11, subsample=0.9)\n",
    "#clf = RandomForestClassifier()"
   ]
  },
  {
   "cell_type": "code",
   "execution_count": 69,
   "metadata": {},
   "outputs": [],
   "source": [
    "df = df.set_index([\"SessionID\", 'WindowNumber']).drop(to_drop, axis=1)"
   ]
  },
  {
   "cell_type": "code",
   "execution_count": 70,
   "metadata": {},
   "outputs": [],
   "source": [
    "x_train, y_train = df.drop(\"target\", axis=1), df[\"target\"]"
   ]
  },
  {
   "cell_type": "code",
   "execution_count": 71,
   "metadata": {},
   "outputs": [
    {
     "data": {
      "text/plain": [
       "XGBClassifier(base_score=0.5, booster='gbtree', colsample_bylevel=0.5,\n",
       "       colsample_bytree=0.6, gamma=0, learning_rate=0.11, max_delta_step=0,\n",
       "       max_depth=9, min_child_weight=1, missing=None, n_estimators=90,\n",
       "       n_jobs=1, nthread=None, objective='binary:logistic',\n",
       "       random_state=31, reg_alpha=0, reg_lambda=1, scale_pos_weight=1,\n",
       "       seed=None, silent=True, subsample=0.9)"
      ]
     },
     "execution_count": 71,
     "metadata": {},
     "output_type": "execute_result"
    }
   ],
   "source": [
    "clf.fit(x_train, y_train)"
   ]
  },
  {
   "cell_type": "code",
   "execution_count": 72,
   "metadata": {},
   "outputs": [
    {
     "data": {
      "text/plain": [
       "<matplotlib.figure.Figure at 0x1a14d04320>"
      ]
     },
     "execution_count": 72,
     "metadata": {},
     "output_type": "execute_result"
    },
    {
     "data": {
      "image/png": "[encoded data removed]",
      "text/plain": [
       "<matplotlib.figure.Figure at 0x1a14d04fd0>"
      ]
     },
     "metadata": {},
     "output_type": "display_data"
    },
    {
     "data": {
      "text/plain": [
       "<matplotlib.figure.Figure at 0x1a14d04320>"
      ]
     },
     "metadata": {},
     "output_type": "display_data"
    }
   ],
   "source": [
    "xgb.plot_importance(clf)\n",
    "plt.figure()"
   ]
  }
 ],
 "metadata": {
  "kernelspec": {
   "display_name": "Python 3",
   "language": "python",
   "name": "python3"
  },
  "language_info": {
   "codemirror_mode": {
    "name": "ipython",
    "version": 3
   },
   "file_extension": ".py",
   "mimetype": "text/x-python",
   "name": "python",
   "nbconvert_exporter": "python",
   "pygments_lexer": "ipython3",
   "version": "3.6.4"
  }
 },
 "nbformat": 4,
 "nbformat_minor": 2
}
