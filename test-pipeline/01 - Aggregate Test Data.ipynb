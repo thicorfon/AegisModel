{
 "cells": [
  {
   "cell_type": "code",
   "execution_count": 1,
   "metadata": {},
   "outputs": [],
   "source": [
    "import pandas as pd\n",
    "import os\n",
    "import re"
   ]
  },
  {
   "cell_type": "code",
   "execution_count": 2,
   "metadata": {},
   "outputs": [],
   "source": [
    "test_data_root = './../../Test Data/'"
   ]
  },
  {
   "cell_type": "code",
   "execution_count": 3,
   "metadata": {},
   "outputs": [],
   "source": [
    "def get_csv_files(path):\n",
    "    list_aux = []\n",
    "    for file in os.listdir(path):\n",
    "        if file.endswith('.csv'):\n",
    "            list_aux.append(file)\n",
    "    return list_aux"
   ]
  },
  {
   "cell_type": "code",
   "execution_count": 4,
   "metadata": {},
   "outputs": [],
   "source": [
    "list_of_files = get_csv_files(test_data_root)"
   ]
  },
  {
   "cell_type": "code",
   "execution_count": 5,
   "metadata": {},
   "outputs": [
    {
     "data": {
      "text/plain": [
       "['JoDaniel2.csv',\n",
       " 'DiegoDiego2.csv',\n",
       " 'TotoWunsch2.csv',\n",
       " 'JoPaula3.csv',\n",
       " 'diegoZanoni6.csv',\n",
       " 'JoMarina1.csv',\n",
       " 'JoDaniel1.csv',\n",
       " 'TotoDiego1.csv',\n",
       " 'TotoMala2.csv',\n",
       " 'TotoAndres1.csv',\n",
       " 'DiegoToto8.csv',\n",
       " 'JoPaula0.csv',\n",
       " 'JoCarlos2.csv',\n",
       " 'JoDiego0.csv',\n",
       " 'diegoZanoni3.csv',\n",
       " 'TotoDiego4.csv',\n",
       " 'TotoDiego5.csv',\n",
       " 'JoDiego3.csv',\n",
       " 'JoMc1.csv',\n",
       " 'DiegoDiego7.csv',\n",
       " 'TotoGabi2.csv',\n",
       " 'DiegoDiego6.csv',\n",
       " 'DiegoBarone3.csv',\n",
       " 'totoPaula2.csv',\n",
       " 'DiegoJo8.csv',\n",
       " 'TotoElcio2.csv',\n",
       " 'JoZanoni2.csv',\n",
       " 'TotoToto0.csv',\n",
       " 'JoBarone1.csv',\n",
       " 'JoJo3.csv',\n",
       " 'JoZanoni1.csv',\n",
       " 'JoLucas1.csv',\n",
       " 'totoMafe2.csv',\n",
       " 'JoJo0.csv',\n",
       " 'DiegoDaniel3.csv',\n",
       " 'JoZanoni4.csv',\n",
       " 'diegoMarina3.csv',\n",
       " 'TotoToto7.csv',\n",
       " 'TotoSantos2.csv',\n",
       " 'JoElcio1.csv',\n",
       " 'TotoCarlos.csv',\n",
       " 'JoElcio3.csv',\n",
       " 'TotoLucas2.csv',\n",
       " 'TotoToto4.csv',\n",
       " 'DiegoCarlos3.csv',\n",
       " 'JoDamaris1.csv',\n",
       " 'JoJo6.csv',\n",
       " 'DiegoLucas3.csv',\n",
       " 'totoFuna2.csv',\n",
       " 'JoPedro2.csv',\n",
       " 'totoMarina2.csv',\n",
       " 'TotoToto9.csv',\n",
       " 'JoMala1.csv',\n",
       " 'DiegoSantos3.csv',\n",
       " 'DiegoMala3.csv',\n",
       " 'TotoBia1.csv',\n",
       " 'DiegoJo2.csv',\n",
       " 'TotoDaniel1.csv',\n",
       " 'TotoJo1.csv',\n",
       " 'JoJo9.csv',\n",
       " 'JoWunsch1.csv',\n",
       " 'JoGabi1.csv',\n",
       " 'DiegoGabi3.csv',\n",
       " 'TotoJo4.csv',\n",
       " 'TotoPedro1.csv',\n",
       " 'DiegoPedro3.csv',\n",
       " 'TotoJo7.csv',\n",
       " 'DiegoJo5.csv',\n",
       " 'JoToto1.csv',\n",
       " 'TotoGabs1.csv',\n",
       " 'DiegoToto2.csv',\n",
       " 'JoMafe1.csv',\n",
       " 'diegoMafe3.csv',\n",
       " 'diegoMc4.csv',\n",
       " 'DiegoDiego8.csv',\n",
       " 'JoToto3.csv',\n",
       " 'DiegoDiego9.csv',\n",
       " 'TotoBarone2.csv',\n",
       " 'DiegoToto5.csv',\n",
       " 'totoMc3.csv',\n",
       " 'JoToto6.csv',\n",
       " 'DiegoWunsch3.csv',\n",
       " 'diegoFuna3.csv',\n",
       " 'diegoDamaris3.csv',\n",
       " 'totoDamaris2.csv',\n",
       " 'totoZanoni5.csv',\n",
       " 'JoFuna1.csv',\n",
       " 'JoSantos1.csv']"
      ]
     },
     "execution_count": 5,
     "metadata": {},
     "output_type": "execute_result"
    }
   ],
   "source": [
    "list_of_files"
   ]
  },
  {
   "cell_type": "code",
   "execution_count": 6,
   "metadata": {},
   "outputs": [],
   "source": [
    "aux_df = pd.DataFrame()\n",
    "for file in list_of_files:\n",
    "    aux_df = aux_df.append(pd.read_csv(test_data_root+file),ignore_index=True)"
   ]
  },
  {
   "cell_type": "code",
   "execution_count": 7,
   "metadata": {},
   "outputs": [],
   "source": [
    "def find_subject(row):\n",
    "    reg_pat = r'[a-z]+(([A-Z]|[a-z])+)'\n",
    "    regex = re.compile(reg_pat)\n",
    "    s = regex.search(row.SessionID)\n",
    "    return (s.group(1))"
   ]
  },
  {
   "cell_type": "code",
   "execution_count": 8,
   "metadata": {},
   "outputs": [],
   "source": [
    "aux_df['Subject'] = aux_df.apply(find_subject,axis=1)"
   ]
  },
  {
   "cell_type": "code",
   "execution_count": 9,
   "metadata": {},
   "outputs": [],
   "source": [
    "aux_df.to_csv('./../aggregated_test_data.csv',index=False)"
   ]
  },
  {
   "cell_type": "code",
   "execution_count": null,
   "metadata": {},
   "outputs": [],
   "source": []
  }
 ],
 "metadata": {
  "kernelspec": {
   "display_name": "Python 3",
   "language": "python",
   "name": "python3"
  },
  "language_info": {
   "codemirror_mode": {
    "name": "ipython",
    "version": 3
   },
   "file_extension": ".py",
   "mimetype": "text/x-python",
   "name": "python",
   "nbconvert_exporter": "python",
   "pygments_lexer": "ipython3",
   "version": "3.6.4"
  }
 },
 "nbformat": 4,
 "nbformat_minor": 2
}
